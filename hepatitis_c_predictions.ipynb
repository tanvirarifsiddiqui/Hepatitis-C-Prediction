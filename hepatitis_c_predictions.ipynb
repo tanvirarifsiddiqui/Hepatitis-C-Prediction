{
  "cells": [
    {
      "cell_type": "markdown",
      "id": "ddf634d8",
      "metadata": {
        "papermill": {
          "duration": 0.050285,
          "end_time": "2021-09-25T11:36:19.271554",
          "exception": false,
          "start_time": "2021-09-25T11:36:19.221269",
          "status": "completed"
        },
        "tags": [],
        "id": "ddf634d8"
      },
      "source": [
        "# Predicting Hepatitis C 🩺"
      ]
    },
    {
      "cell_type": "markdown",
      "id": "281a6565",
      "metadata": {
        "papermill": {
          "duration": 0.054295,
          "end_time": "2021-09-25T11:36:19.377035",
          "exception": false,
          "start_time": "2021-09-25T11:36:19.322740",
          "status": "completed"
        },
        "tags": [],
        "id": "281a6565"
      },
      "source": [
        "#### If you like my work, It will be really great of you to upvote this notebook!\n",
        "#### If not then you leaving a comment on what do I need to work on and improve will be really helpful!"
      ]
    },
    {
      "cell_type": "markdown",
      "id": "5c269523",
      "metadata": {
        "papermill": {
          "duration": 0.048602,
          "end_time": "2021-09-25T11:36:19.477789",
          "exception": false,
          "start_time": "2021-09-25T11:36:19.429187",
          "status": "completed"
        },
        "tags": [],
        "id": "5c269523"
      },
      "source": [
        "## Importing Libraries"
      ]
    },
    {
      "cell_type": "code",
      "execution_count": null,
      "id": "6160c313",
      "metadata": {
        "_cell_guid": "b1076dfc-b9ad-4769-8c92-a6c4dae69d19",
        "_uuid": "8f2839f25d086af736a60e9eeb907d3b93b6e0e5",
        "execution": {
          "iopub.execute_input": "2021-09-25T11:36:19.589853Z",
          "iopub.status.busy": "2021-09-25T11:36:19.588671Z",
          "iopub.status.idle": "2021-09-25T11:36:20.504774Z",
          "shell.execute_reply": "2021-09-25T11:36:20.503818Z",
          "shell.execute_reply.started": "2021-09-25T11:33:51.073390Z"
        },
        "papermill": {
          "duration": 0.977386,
          "end_time": "2021-09-25T11:36:20.504929",
          "exception": false,
          "start_time": "2021-09-25T11:36:19.527543",
          "status": "completed"
        },
        "tags": [],
        "id": "6160c313"
      },
      "outputs": [],
      "source": [
        "import pandas as pd\n",
        "import numpy as np\n",
        "import matplotlib.pyplot as plt\n",
        "import seaborn as sns\n",
        "import warnings\n",
        "warnings.simplefilter(\"ignore\")"
      ]
    },
    {
      "cell_type": "code",
      "execution_count": null,
      "metadata": {
        "execution": {
          "iopub.execute_input": "2021-09-25T11:36:20.705910Z",
          "iopub.status.busy": "2021-09-25T11:36:20.704853Z",
          "iopub.status.idle": "2021-09-25T11:36:20.754577Z",
          "shell.execute_reply": "2021-09-25T11:36:20.755048Z",
          "shell.execute_reply.started": "2021-09-25T11:33:52.225223Z"
        },
        "papermill": {
          "duration": 0.102301,
          "end_time": "2021-09-25T11:36:20.755218",
          "exception": false,
          "start_time": "2021-09-25T11:36:20.652917",
          "status": "completed"
        },
        "tags": [],
        "colab": {
          "base_uri": "https://localhost:8080/",
          "height": 206
        },
        "id": "1d93b672",
        "outputId": "4cba5e83-7469-4575-eb4e-e9cdb47d1be5"
      },
      "outputs": [
        {
          "output_type": "execute_result",
          "data": {
            "text/plain": [
              "   Unnamed: 0       Category  Age Sex   ALB   ALP   ALT   AST   BIL    CHE  \\\n",
              "0           1  0=Blood Donor   32   m  38.5  52.5   7.7  22.1   7.5   6.93   \n",
              "1           2  0=Blood Donor   32   m  38.5  70.3  18.0  24.7   3.9  11.17   \n",
              "2           3  0=Blood Donor   32   m  46.9  74.7  36.2  52.6   6.1   8.84   \n",
              "3           4  0=Blood Donor   32   m  43.2  52.0  30.6  22.6  18.9   7.33   \n",
              "4           5  0=Blood Donor   32   m  39.2  74.1  32.6  24.8   9.6   9.15   \n",
              "\n",
              "   CHOL   CREA   GGT  PROT  \n",
              "0  3.23  106.0  12.1  69.0  \n",
              "1  4.80   74.0  15.6  76.5  \n",
              "2  5.20   86.0  33.2  79.3  \n",
              "3  4.74   80.0  33.8  75.7  \n",
              "4  4.32   76.0  29.9  68.7  "
            ],
            "text/html": [
              "\n",
              "  <div id=\"df-ecf1dd12-c45e-49b4-8bce-d421c5f44c8f\">\n",
              "    <div class=\"colab-df-container\">\n",
              "      <div>\n",
              "<style scoped>\n",
              "    .dataframe tbody tr th:only-of-type {\n",
              "        vertical-align: middle;\n",
              "    }\n",
              "\n",
              "    .dataframe tbody tr th {\n",
              "        vertical-align: top;\n",
              "    }\n",
              "\n",
              "    .dataframe thead th {\n",
              "        text-align: right;\n",
              "    }\n",
              "</style>\n",
              "<table border=\"1\" class=\"dataframe\">\n",
              "  <thead>\n",
              "    <tr style=\"text-align: right;\">\n",
              "      <th></th>\n",
              "      <th>Unnamed: 0</th>\n",
              "      <th>Category</th>\n",
              "      <th>Age</th>\n",
              "      <th>Sex</th>\n",
              "      <th>ALB</th>\n",
              "      <th>ALP</th>\n",
              "      <th>ALT</th>\n",
              "      <th>AST</th>\n",
              "      <th>BIL</th>\n",
              "      <th>CHE</th>\n",
              "      <th>CHOL</th>\n",
              "      <th>CREA</th>\n",
              "      <th>GGT</th>\n",
              "      <th>PROT</th>\n",
              "    </tr>\n",
              "  </thead>\n",
              "  <tbody>\n",
              "    <tr>\n",
              "      <th>0</th>\n",
              "      <td>1</td>\n",
              "      <td>0=Blood Donor</td>\n",
              "      <td>32</td>\n",
              "      <td>m</td>\n",
              "      <td>38.5</td>\n",
              "      <td>52.5</td>\n",
              "      <td>7.7</td>\n",
              "      <td>22.1</td>\n",
              "      <td>7.5</td>\n",
              "      <td>6.93</td>\n",
              "      <td>3.23</td>\n",
              "      <td>106.0</td>\n",
              "      <td>12.1</td>\n",
              "      <td>69.0</td>\n",
              "    </tr>\n",
              "    <tr>\n",
              "      <th>1</th>\n",
              "      <td>2</td>\n",
              "      <td>0=Blood Donor</td>\n",
              "      <td>32</td>\n",
              "      <td>m</td>\n",
              "      <td>38.5</td>\n",
              "      <td>70.3</td>\n",
              "      <td>18.0</td>\n",
              "      <td>24.7</td>\n",
              "      <td>3.9</td>\n",
              "      <td>11.17</td>\n",
              "      <td>4.80</td>\n",
              "      <td>74.0</td>\n",
              "      <td>15.6</td>\n",
              "      <td>76.5</td>\n",
              "    </tr>\n",
              "    <tr>\n",
              "      <th>2</th>\n",
              "      <td>3</td>\n",
              "      <td>0=Blood Donor</td>\n",
              "      <td>32</td>\n",
              "      <td>m</td>\n",
              "      <td>46.9</td>\n",
              "      <td>74.7</td>\n",
              "      <td>36.2</td>\n",
              "      <td>52.6</td>\n",
              "      <td>6.1</td>\n",
              "      <td>8.84</td>\n",
              "      <td>5.20</td>\n",
              "      <td>86.0</td>\n",
              "      <td>33.2</td>\n",
              "      <td>79.3</td>\n",
              "    </tr>\n",
              "    <tr>\n",
              "      <th>3</th>\n",
              "      <td>4</td>\n",
              "      <td>0=Blood Donor</td>\n",
              "      <td>32</td>\n",
              "      <td>m</td>\n",
              "      <td>43.2</td>\n",
              "      <td>52.0</td>\n",
              "      <td>30.6</td>\n",
              "      <td>22.6</td>\n",
              "      <td>18.9</td>\n",
              "      <td>7.33</td>\n",
              "      <td>4.74</td>\n",
              "      <td>80.0</td>\n",
              "      <td>33.8</td>\n",
              "      <td>75.7</td>\n",
              "    </tr>\n",
              "    <tr>\n",
              "      <th>4</th>\n",
              "      <td>5</td>\n",
              "      <td>0=Blood Donor</td>\n",
              "      <td>32</td>\n",
              "      <td>m</td>\n",
              "      <td>39.2</td>\n",
              "      <td>74.1</td>\n",
              "      <td>32.6</td>\n",
              "      <td>24.8</td>\n",
              "      <td>9.6</td>\n",
              "      <td>9.15</td>\n",
              "      <td>4.32</td>\n",
              "      <td>76.0</td>\n",
              "      <td>29.9</td>\n",
              "      <td>68.7</td>\n",
              "    </tr>\n",
              "  </tbody>\n",
              "</table>\n",
              "</div>\n",
              "      <button class=\"colab-df-convert\" onclick=\"convertToInteractive('df-ecf1dd12-c45e-49b4-8bce-d421c5f44c8f')\"\n",
              "              title=\"Convert this dataframe to an interactive table.\"\n",
              "              style=\"display:none;\">\n",
              "        \n",
              "  <svg xmlns=\"http://www.w3.org/2000/svg\" height=\"24px\"viewBox=\"0 0 24 24\"\n",
              "       width=\"24px\">\n",
              "    <path d=\"M0 0h24v24H0V0z\" fill=\"none\"/>\n",
              "    <path d=\"M18.56 5.44l.94 2.06.94-2.06 2.06-.94-2.06-.94-.94-2.06-.94 2.06-2.06.94zm-11 1L8.5 8.5l.94-2.06 2.06-.94-2.06-.94L8.5 2.5l-.94 2.06-2.06.94zm10 10l.94 2.06.94-2.06 2.06-.94-2.06-.94-.94-2.06-.94 2.06-2.06.94z\"/><path d=\"M17.41 7.96l-1.37-1.37c-.4-.4-.92-.59-1.43-.59-.52 0-1.04.2-1.43.59L10.3 9.45l-7.72 7.72c-.78.78-.78 2.05 0 2.83L4 21.41c.39.39.9.59 1.41.59.51 0 1.02-.2 1.41-.59l7.78-7.78 2.81-2.81c.8-.78.8-2.07 0-2.86zM5.41 20L4 18.59l7.72-7.72 1.47 1.35L5.41 20z\"/>\n",
              "  </svg>\n",
              "      </button>\n",
              "      \n",
              "  <style>\n",
              "    .colab-df-container {\n",
              "      display:flex;\n",
              "      flex-wrap:wrap;\n",
              "      gap: 12px;\n",
              "    }\n",
              "\n",
              "    .colab-df-convert {\n",
              "      background-color: #E8F0FE;\n",
              "      border: none;\n",
              "      border-radius: 50%;\n",
              "      cursor: pointer;\n",
              "      display: none;\n",
              "      fill: #1967D2;\n",
              "      height: 32px;\n",
              "      padding: 0 0 0 0;\n",
              "      width: 32px;\n",
              "    }\n",
              "\n",
              "    .colab-df-convert:hover {\n",
              "      background-color: #E2EBFA;\n",
              "      box-shadow: 0px 1px 2px rgba(60, 64, 67, 0.3), 0px 1px 3px 1px rgba(60, 64, 67, 0.15);\n",
              "      fill: #174EA6;\n",
              "    }\n",
              "\n",
              "    [theme=dark] .colab-df-convert {\n",
              "      background-color: #3B4455;\n",
              "      fill: #D2E3FC;\n",
              "    }\n",
              "\n",
              "    [theme=dark] .colab-df-convert:hover {\n",
              "      background-color: #434B5C;\n",
              "      box-shadow: 0px 1px 3px 1px rgba(0, 0, 0, 0.15);\n",
              "      filter: drop-shadow(0px 1px 2px rgba(0, 0, 0, 0.3));\n",
              "      fill: #FFFFFF;\n",
              "    }\n",
              "  </style>\n",
              "\n",
              "      <script>\n",
              "        const buttonEl =\n",
              "          document.querySelector('#df-ecf1dd12-c45e-49b4-8bce-d421c5f44c8f button.colab-df-convert');\n",
              "        buttonEl.style.display =\n",
              "          google.colab.kernel.accessAllowed ? 'block' : 'none';\n",
              "\n",
              "        async function convertToInteractive(key) {\n",
              "          const element = document.querySelector('#df-ecf1dd12-c45e-49b4-8bce-d421c5f44c8f');\n",
              "          const dataTable =\n",
              "            await google.colab.kernel.invokeFunction('convertToInteractive',\n",
              "                                                     [key], {});\n",
              "          if (!dataTable) return;\n",
              "\n",
              "          const docLinkHtml = 'Like what you see? Visit the ' +\n",
              "            '<a target=\"_blank\" href=https://colab.research.google.com/notebooks/data_table.ipynb>data table notebook</a>'\n",
              "            + ' to learn more about interactive tables.';\n",
              "          element.innerHTML = '';\n",
              "          dataTable['output_type'] = 'display_data';\n",
              "          await google.colab.output.renderOutput(dataTable, element);\n",
              "          const docLink = document.createElement('div');\n",
              "          docLink.innerHTML = docLinkHtml;\n",
              "          element.appendChild(docLink);\n",
              "        }\n",
              "      </script>\n",
              "    </div>\n",
              "  </div>\n",
              "  "
            ]
          },
          "metadata": {},
          "execution_count": 6
        }
      ],
      "source": [
        "df = pd.read_csv(\"/content/HepatitisCdata (3).csv\")\n",
        "df.head()"
      ],
      "id": "1d93b672"
    },
    {
      "cell_type": "markdown",
      "id": "04a042e3",
      "metadata": {
        "papermill": {
          "duration": 0.048705,
          "end_time": "2021-09-25T11:36:20.601643",
          "exception": false,
          "start_time": "2021-09-25T11:36:20.552938",
          "status": "completed"
        },
        "tags": [],
        "id": "04a042e3"
      },
      "source": [
        "## Loading up the data"
      ]
    },
    {
      "cell_type": "code",
      "execution_count": null,
      "id": "28463a9c",
      "metadata": {
        "execution": {
          "iopub.execute_input": "2021-09-25T11:36:20.862114Z",
          "iopub.status.busy": "2021-09-25T11:36:20.861440Z",
          "iopub.status.idle": "2021-09-25T11:36:20.863459Z",
          "shell.execute_reply": "2021-09-25T11:36:20.863944Z",
          "shell.execute_reply.started": "2021-09-25T11:33:52.293373Z"
        },
        "papermill": {
          "duration": 0.059201,
          "end_time": "2021-09-25T11:36:20.864123",
          "exception": false,
          "start_time": "2021-09-25T11:36:20.804922",
          "status": "completed"
        },
        "tags": [],
        "id": "28463a9c"
      },
      "outputs": [],
      "source": [
        "df.drop(\"Unnamed: 0\", axis=1, inplace=True)"
      ]
    },
    {
      "cell_type": "code",
      "execution_count": null,
      "id": "6cc872f4",
      "metadata": {
        "execution": {
          "iopub.execute_input": "2021-09-25T11:36:20.965792Z",
          "iopub.status.busy": "2021-09-25T11:36:20.965189Z",
          "iopub.status.idle": "2021-09-25T11:36:20.971401Z",
          "shell.execute_reply": "2021-09-25T11:36:20.971904Z",
          "shell.execute_reply.started": "2021-09-25T11:33:52.306529Z"
        },
        "papermill": {
          "duration": 0.058157,
          "end_time": "2021-09-25T11:36:20.972060",
          "exception": false,
          "start_time": "2021-09-25T11:36:20.913903",
          "status": "completed"
        },
        "tags": [],
        "colab": {
          "base_uri": "https://localhost:8080/"
        },
        "id": "6cc872f4",
        "outputId": "701bc4d8-7f2d-4be4-a3e1-7ace806205a4"
      },
      "outputs": [
        {
          "output_type": "execute_result",
          "data": {
            "text/plain": [
              "Category     object\n",
              "Age           int64\n",
              "Sex          object\n",
              "ALB         float64\n",
              "ALP         float64\n",
              "ALT         float64\n",
              "AST         float64\n",
              "BIL         float64\n",
              "CHE         float64\n",
              "CHOL        float64\n",
              "CREA        float64\n",
              "GGT         float64\n",
              "PROT        float64\n",
              "dtype: object"
            ]
          },
          "metadata": {},
          "execution_count": 8
        }
      ],
      "source": [
        "df.dtypes"
      ]
    },
    {
      "cell_type": "code",
      "execution_count": null,
      "id": "fdcb3f55",
      "metadata": {
        "execution": {
          "iopub.execute_input": "2021-09-25T11:36:21.073053Z",
          "iopub.status.busy": "2021-09-25T11:36:21.072453Z",
          "iopub.status.idle": "2021-09-25T11:36:21.078990Z",
          "shell.execute_reply": "2021-09-25T11:36:21.079497Z",
          "shell.execute_reply.started": "2021-09-25T11:33:52.324235Z"
        },
        "papermill": {
          "duration": 0.057865,
          "end_time": "2021-09-25T11:36:21.079652",
          "exception": false,
          "start_time": "2021-09-25T11:36:21.021787",
          "status": "completed"
        },
        "tags": [],
        "colab": {
          "base_uri": "https://localhost:8080/"
        },
        "id": "fdcb3f55",
        "outputId": "501214f1-8761-42c2-9397-ac4121f26afa"
      },
      "outputs": [
        {
          "output_type": "execute_result",
          "data": {
            "text/plain": [
              "array(['0=Blood Donor', '0s=suspect Blood Donor', '1=Hepatitis',\n",
              "       '2=Fibrosis', '3=Cirrhosis'], dtype=object)"
            ]
          },
          "metadata": {},
          "execution_count": 9
        }
      ],
      "source": [
        "df.Category.unique()"
      ]
    },
    {
      "cell_type": "code",
      "execution_count": null,
      "id": "c4eec3bb",
      "metadata": {
        "execution": {
          "iopub.execute_input": "2021-09-25T11:36:21.211309Z",
          "iopub.status.busy": "2021-09-25T11:36:21.210712Z",
          "iopub.status.idle": "2021-09-25T11:36:21.219016Z",
          "shell.execute_reply": "2021-09-25T11:36:21.219522Z",
          "shell.execute_reply.started": "2021-09-25T11:33:52.345901Z"
        },
        "papermill": {
          "duration": 0.074732,
          "end_time": "2021-09-25T11:36:21.219690",
          "exception": false,
          "start_time": "2021-09-25T11:36:21.144958",
          "status": "completed"
        },
        "tags": [],
        "id": "c4eec3bb"
      },
      "outputs": [],
      "source": [
        "# Mapping numeric values\n",
        "\n",
        "df['Category'] = df['Category'].map({'0=Blood Donor': 0, '0s=suspect Blood Donor': 0,\n",
        "                                     \"1=Hepatitis\" : 1, \"2=Fibrosis\" : 1, \"3=Cirrhosis\" : 1})\n",
        "\n",
        "df['Sex'] = df['Sex'].map({'m': 1, 'f': 2})"
      ]
    },
    {
      "cell_type": "code",
      "execution_count": null,
      "id": "9a7c05ca",
      "metadata": {
        "execution": {
          "iopub.execute_input": "2021-09-25T11:36:21.324808Z",
          "iopub.status.busy": "2021-09-25T11:36:21.324183Z",
          "iopub.status.idle": "2021-09-25T11:36:21.343439Z",
          "shell.execute_reply": "2021-09-25T11:36:21.344019Z",
          "shell.execute_reply.started": "2021-09-25T11:33:52.360170Z"
        },
        "papermill": {
          "duration": 0.072767,
          "end_time": "2021-09-25T11:36:21.344196",
          "exception": false,
          "start_time": "2021-09-25T11:36:21.271429",
          "status": "completed"
        },
        "tags": [],
        "colab": {
          "base_uri": "https://localhost:8080/",
          "height": 206
        },
        "id": "9a7c05ca",
        "outputId": "ab7279de-9c91-4915-cab2-03a1378d85ab"
      },
      "outputs": [
        {
          "output_type": "execute_result",
          "data": {
            "text/plain": [
              "   Category  Age  Sex   ALB   ALP   ALT   AST   BIL    CHE  CHOL   CREA   GGT  \\\n",
              "0         0   32    1  38.5  52.5   7.7  22.1   7.5   6.93  3.23  106.0  12.1   \n",
              "1         0   32    1  38.5  70.3  18.0  24.7   3.9  11.17  4.80   74.0  15.6   \n",
              "2         0   32    1  46.9  74.7  36.2  52.6   6.1   8.84  5.20   86.0  33.2   \n",
              "3         0   32    1  43.2  52.0  30.6  22.6  18.9   7.33  4.74   80.0  33.8   \n",
              "4         0   32    1  39.2  74.1  32.6  24.8   9.6   9.15  4.32   76.0  29.9   \n",
              "\n",
              "   PROT  \n",
              "0  69.0  \n",
              "1  76.5  \n",
              "2  79.3  \n",
              "3  75.7  \n",
              "4  68.7  "
            ],
            "text/html": [
              "\n",
              "  <div id=\"df-e9d7b8c8-c326-41f3-92c6-5ca72dfc6450\">\n",
              "    <div class=\"colab-df-container\">\n",
              "      <div>\n",
              "<style scoped>\n",
              "    .dataframe tbody tr th:only-of-type {\n",
              "        vertical-align: middle;\n",
              "    }\n",
              "\n",
              "    .dataframe tbody tr th {\n",
              "        vertical-align: top;\n",
              "    }\n",
              "\n",
              "    .dataframe thead th {\n",
              "        text-align: right;\n",
              "    }\n",
              "</style>\n",
              "<table border=\"1\" class=\"dataframe\">\n",
              "  <thead>\n",
              "    <tr style=\"text-align: right;\">\n",
              "      <th></th>\n",
              "      <th>Category</th>\n",
              "      <th>Age</th>\n",
              "      <th>Sex</th>\n",
              "      <th>ALB</th>\n",
              "      <th>ALP</th>\n",
              "      <th>ALT</th>\n",
              "      <th>AST</th>\n",
              "      <th>BIL</th>\n",
              "      <th>CHE</th>\n",
              "      <th>CHOL</th>\n",
              "      <th>CREA</th>\n",
              "      <th>GGT</th>\n",
              "      <th>PROT</th>\n",
              "    </tr>\n",
              "  </thead>\n",
              "  <tbody>\n",
              "    <tr>\n",
              "      <th>0</th>\n",
              "      <td>0</td>\n",
              "      <td>32</td>\n",
              "      <td>1</td>\n",
              "      <td>38.5</td>\n",
              "      <td>52.5</td>\n",
              "      <td>7.7</td>\n",
              "      <td>22.1</td>\n",
              "      <td>7.5</td>\n",
              "      <td>6.93</td>\n",
              "      <td>3.23</td>\n",
              "      <td>106.0</td>\n",
              "      <td>12.1</td>\n",
              "      <td>69.0</td>\n",
              "    </tr>\n",
              "    <tr>\n",
              "      <th>1</th>\n",
              "      <td>0</td>\n",
              "      <td>32</td>\n",
              "      <td>1</td>\n",
              "      <td>38.5</td>\n",
              "      <td>70.3</td>\n",
              "      <td>18.0</td>\n",
              "      <td>24.7</td>\n",
              "      <td>3.9</td>\n",
              "      <td>11.17</td>\n",
              "      <td>4.80</td>\n",
              "      <td>74.0</td>\n",
              "      <td>15.6</td>\n",
              "      <td>76.5</td>\n",
              "    </tr>\n",
              "    <tr>\n",
              "      <th>2</th>\n",
              "      <td>0</td>\n",
              "      <td>32</td>\n",
              "      <td>1</td>\n",
              "      <td>46.9</td>\n",
              "      <td>74.7</td>\n",
              "      <td>36.2</td>\n",
              "      <td>52.6</td>\n",
              "      <td>6.1</td>\n",
              "      <td>8.84</td>\n",
              "      <td>5.20</td>\n",
              "      <td>86.0</td>\n",
              "      <td>33.2</td>\n",
              "      <td>79.3</td>\n",
              "    </tr>\n",
              "    <tr>\n",
              "      <th>3</th>\n",
              "      <td>0</td>\n",
              "      <td>32</td>\n",
              "      <td>1</td>\n",
              "      <td>43.2</td>\n",
              "      <td>52.0</td>\n",
              "      <td>30.6</td>\n",
              "      <td>22.6</td>\n",
              "      <td>18.9</td>\n",
              "      <td>7.33</td>\n",
              "      <td>4.74</td>\n",
              "      <td>80.0</td>\n",
              "      <td>33.8</td>\n",
              "      <td>75.7</td>\n",
              "    </tr>\n",
              "    <tr>\n",
              "      <th>4</th>\n",
              "      <td>0</td>\n",
              "      <td>32</td>\n",
              "      <td>1</td>\n",
              "      <td>39.2</td>\n",
              "      <td>74.1</td>\n",
              "      <td>32.6</td>\n",
              "      <td>24.8</td>\n",
              "      <td>9.6</td>\n",
              "      <td>9.15</td>\n",
              "      <td>4.32</td>\n",
              "      <td>76.0</td>\n",
              "      <td>29.9</td>\n",
              "      <td>68.7</td>\n",
              "    </tr>\n",
              "  </tbody>\n",
              "</table>\n",
              "</div>\n",
              "      <button class=\"colab-df-convert\" onclick=\"convertToInteractive('df-e9d7b8c8-c326-41f3-92c6-5ca72dfc6450')\"\n",
              "              title=\"Convert this dataframe to an interactive table.\"\n",
              "              style=\"display:none;\">\n",
              "        \n",
              "  <svg xmlns=\"http://www.w3.org/2000/svg\" height=\"24px\"viewBox=\"0 0 24 24\"\n",
              "       width=\"24px\">\n",
              "    <path d=\"M0 0h24v24H0V0z\" fill=\"none\"/>\n",
              "    <path d=\"M18.56 5.44l.94 2.06.94-2.06 2.06-.94-2.06-.94-.94-2.06-.94 2.06-2.06.94zm-11 1L8.5 8.5l.94-2.06 2.06-.94-2.06-.94L8.5 2.5l-.94 2.06-2.06.94zm10 10l.94 2.06.94-2.06 2.06-.94-2.06-.94-.94-2.06-.94 2.06-2.06.94z\"/><path d=\"M17.41 7.96l-1.37-1.37c-.4-.4-.92-.59-1.43-.59-.52 0-1.04.2-1.43.59L10.3 9.45l-7.72 7.72c-.78.78-.78 2.05 0 2.83L4 21.41c.39.39.9.59 1.41.59.51 0 1.02-.2 1.41-.59l7.78-7.78 2.81-2.81c.8-.78.8-2.07 0-2.86zM5.41 20L4 18.59l7.72-7.72 1.47 1.35L5.41 20z\"/>\n",
              "  </svg>\n",
              "      </button>\n",
              "      \n",
              "  <style>\n",
              "    .colab-df-container {\n",
              "      display:flex;\n",
              "      flex-wrap:wrap;\n",
              "      gap: 12px;\n",
              "    }\n",
              "\n",
              "    .colab-df-convert {\n",
              "      background-color: #E8F0FE;\n",
              "      border: none;\n",
              "      border-radius: 50%;\n",
              "      cursor: pointer;\n",
              "      display: none;\n",
              "      fill: #1967D2;\n",
              "      height: 32px;\n",
              "      padding: 0 0 0 0;\n",
              "      width: 32px;\n",
              "    }\n",
              "\n",
              "    .colab-df-convert:hover {\n",
              "      background-color: #E2EBFA;\n",
              "      box-shadow: 0px 1px 2px rgba(60, 64, 67, 0.3), 0px 1px 3px 1px rgba(60, 64, 67, 0.15);\n",
              "      fill: #174EA6;\n",
              "    }\n",
              "\n",
              "    [theme=dark] .colab-df-convert {\n",
              "      background-color: #3B4455;\n",
              "      fill: #D2E3FC;\n",
              "    }\n",
              "\n",
              "    [theme=dark] .colab-df-convert:hover {\n",
              "      background-color: #434B5C;\n",
              "      box-shadow: 0px 1px 3px 1px rgba(0, 0, 0, 0.15);\n",
              "      filter: drop-shadow(0px 1px 2px rgba(0, 0, 0, 0.3));\n",
              "      fill: #FFFFFF;\n",
              "    }\n",
              "  </style>\n",
              "\n",
              "      <script>\n",
              "        const buttonEl =\n",
              "          document.querySelector('#df-e9d7b8c8-c326-41f3-92c6-5ca72dfc6450 button.colab-df-convert');\n",
              "        buttonEl.style.display =\n",
              "          google.colab.kernel.accessAllowed ? 'block' : 'none';\n",
              "\n",
              "        async function convertToInteractive(key) {\n",
              "          const element = document.querySelector('#df-e9d7b8c8-c326-41f3-92c6-5ca72dfc6450');\n",
              "          const dataTable =\n",
              "            await google.colab.kernel.invokeFunction('convertToInteractive',\n",
              "                                                     [key], {});\n",
              "          if (!dataTable) return;\n",
              "\n",
              "          const docLinkHtml = 'Like what you see? Visit the ' +\n",
              "            '<a target=\"_blank\" href=https://colab.research.google.com/notebooks/data_table.ipynb>data table notebook</a>'\n",
              "            + ' to learn more about interactive tables.';\n",
              "          element.innerHTML = '';\n",
              "          dataTable['output_type'] = 'display_data';\n",
              "          await google.colab.output.renderOutput(dataTable, element);\n",
              "          const docLink = document.createElement('div');\n",
              "          docLink.innerHTML = docLinkHtml;\n",
              "          element.appendChild(docLink);\n",
              "        }\n",
              "      </script>\n",
              "    </div>\n",
              "  </div>\n",
              "  "
            ]
          },
          "metadata": {},
          "execution_count": 11
        }
      ],
      "source": [
        "df.head()"
      ]
    },
    {
      "cell_type": "code",
      "execution_count": null,
      "id": "3614d7e4",
      "metadata": {
        "execution": {
          "iopub.execute_input": "2021-09-25T11:36:21.449363Z",
          "iopub.status.busy": "2021-09-25T11:36:21.448751Z",
          "iopub.status.idle": "2021-09-25T11:36:21.456159Z",
          "shell.execute_reply": "2021-09-25T11:36:21.455675Z",
          "shell.execute_reply.started": "2021-09-25T11:33:52.392590Z"
        },
        "papermill": {
          "duration": 0.061086,
          "end_time": "2021-09-25T11:36:21.456286",
          "exception": false,
          "start_time": "2021-09-25T11:36:21.395200",
          "status": "completed"
        },
        "tags": [],
        "colab": {
          "base_uri": "https://localhost:8080/"
        },
        "id": "3614d7e4",
        "outputId": "8895e796-ea02-4cb0-c4b1-7e9b05f2f5ea"
      },
      "outputs": [
        {
          "output_type": "execute_result",
          "data": {
            "text/plain": [
              "Category      int64\n",
              "Age           int64\n",
              "Sex           int64\n",
              "ALB         float64\n",
              "ALP         float64\n",
              "ALT         float64\n",
              "AST         float64\n",
              "BIL         float64\n",
              "CHE         float64\n",
              "CHOL        float64\n",
              "CREA        float64\n",
              "GGT         float64\n",
              "PROT        float64\n",
              "dtype: object"
            ]
          },
          "metadata": {},
          "execution_count": 12
        }
      ],
      "source": [
        "# Checking the data types again after the transformation\n",
        "df.dtypes"
      ]
    },
    {
      "cell_type": "code",
      "execution_count": null,
      "id": "f7d89a5c",
      "metadata": {
        "execution": {
          "iopub.execute_input": "2021-09-25T11:36:21.565438Z",
          "iopub.status.busy": "2021-09-25T11:36:21.564768Z",
          "iopub.status.idle": "2021-09-25T11:36:21.567149Z",
          "shell.execute_reply": "2021-09-25T11:36:21.567598Z",
          "shell.execute_reply.started": "2021-09-25T11:33:52.410213Z"
        },
        "papermill": {
          "duration": 0.060287,
          "end_time": "2021-09-25T11:36:21.567751",
          "exception": false,
          "start_time": "2021-09-25T11:36:21.507464",
          "status": "completed"
        },
        "tags": [],
        "colab": {
          "base_uri": "https://localhost:8080/"
        },
        "id": "f7d89a5c",
        "outputId": "3ed56250-964e-4c83-8bbc-52b039a57779"
      },
      "outputs": [
        {
          "output_type": "execute_result",
          "data": {
            "text/plain": [
              "Category     0\n",
              "Age          0\n",
              "Sex          0\n",
              "ALB          1\n",
              "ALP         18\n",
              "ALT          1\n",
              "AST          0\n",
              "BIL          0\n",
              "CHE          0\n",
              "CHOL        10\n",
              "CREA         0\n",
              "GGT          0\n",
              "PROT         1\n",
              "dtype: int64"
            ]
          },
          "metadata": {},
          "execution_count": 13
        }
      ],
      "source": [
        "# Checking for missing values in the dataset\n",
        "df.isna().sum()"
      ]
    },
    {
      "cell_type": "code",
      "execution_count": null,
      "id": "6c03ce99",
      "metadata": {
        "execution": {
          "iopub.execute_input": "2021-09-25T11:36:21.675570Z",
          "iopub.status.busy": "2021-09-25T11:36:21.674924Z",
          "iopub.status.idle": "2021-09-25T11:36:21.682801Z",
          "shell.execute_reply": "2021-09-25T11:36:21.683279Z",
          "shell.execute_reply.started": "2021-09-25T11:33:52.428093Z"
        },
        "papermill": {
          "duration": 0.063613,
          "end_time": "2021-09-25T11:36:21.683480",
          "exception": false,
          "start_time": "2021-09-25T11:36:21.619867",
          "status": "completed"
        },
        "tags": [],
        "id": "6c03ce99"
      },
      "outputs": [],
      "source": [
        "# Filling missing values with the median\n",
        "df.fillna(df.median(), inplace=True)"
      ]
    },
    {
      "cell_type": "code",
      "execution_count": null,
      "id": "3279fc99",
      "metadata": {
        "execution": {
          "iopub.execute_input": "2021-09-25T11:36:21.792968Z",
          "iopub.status.busy": "2021-09-25T11:36:21.792335Z",
          "iopub.status.idle": "2021-09-25T11:36:21.800482Z",
          "shell.execute_reply": "2021-09-25T11:36:21.799993Z",
          "shell.execute_reply.started": "2021-09-25T11:33:52.446119Z"
        },
        "papermill": {
          "duration": 0.063734,
          "end_time": "2021-09-25T11:36:21.800608",
          "exception": false,
          "start_time": "2021-09-25T11:36:21.736874",
          "status": "completed"
        },
        "tags": [],
        "colab": {
          "base_uri": "https://localhost:8080/"
        },
        "id": "3279fc99",
        "outputId": "5ebc34cd-2a6e-422f-9e7e-79e7b4f18cf8"
      },
      "outputs": [
        {
          "output_type": "execute_result",
          "data": {
            "text/plain": [
              "Category    0\n",
              "Age         0\n",
              "Sex         0\n",
              "ALB         0\n",
              "ALP         0\n",
              "ALT         0\n",
              "AST         0\n",
              "BIL         0\n",
              "CHE         0\n",
              "CHOL        0\n",
              "CREA        0\n",
              "GGT         0\n",
              "PROT        0\n",
              "dtype: int64"
            ]
          },
          "metadata": {},
          "execution_count": 15
        }
      ],
      "source": [
        "df.isna().sum()"
      ]
    },
    {
      "cell_type": "code",
      "execution_count": null,
      "id": "43cfd556",
      "metadata": {
        "execution": {
          "iopub.execute_input": "2021-09-25T11:36:21.925400Z",
          "iopub.status.busy": "2021-09-25T11:36:21.924754Z",
          "iopub.status.idle": "2021-09-25T11:36:22.868960Z",
          "shell.execute_reply": "2021-09-25T11:36:22.869476Z",
          "shell.execute_reply.started": "2021-09-25T11:33:52.466603Z"
        },
        "papermill": {
          "duration": 1.015993,
          "end_time": "2021-09-25T11:36:22.869650",
          "exception": false,
          "start_time": "2021-09-25T11:36:21.853657",
          "status": "completed"
        },
        "tags": [],
        "colab": {
          "base_uri": "https://localhost:8080/",
          "height": 566
        },
        "id": "43cfd556",
        "outputId": "3165cc08-4ac5-464b-af9b-e3857344efa6"
      },
      "outputs": [
        {
          "output_type": "display_data",
          "data": {
            "text/plain": [
              "<Figure size 800x640 with 1 Axes>"
            ],
            "image/png": "[encoded data removed]"
          },
          "metadata": {}
        }
      ],
      "source": [
        "# Having a look at the correlation matrix\n",
        "\n",
        "fig, ax = plt.subplots(figsize=(10,8))\n",
        "sns.heatmap(df.corr(), annot=True, fmt='.1g', cmap=\"Greens_r\", cbar=False, linewidths=0.5, linecolor='grey');"
      ]
    },
    {
      "cell_type": "code",
      "execution_count": null,
      "id": "13f4b180",
      "metadata": {
        "execution": {
          "iopub.execute_input": "2021-09-25T11:36:22.984782Z",
          "iopub.status.busy": "2021-09-25T11:36:22.984120Z",
          "iopub.status.idle": "2021-09-25T11:36:22.994203Z",
          "shell.execute_reply": "2021-09-25T11:36:22.994648Z",
          "shell.execute_reply.started": "2021-09-25T11:33:53.552202Z"
        },
        "papermill": {
          "duration": 0.068976,
          "end_time": "2021-09-25T11:36:22.994829",
          "exception": false,
          "start_time": "2021-09-25T11:36:22.925853",
          "status": "completed"
        },
        "tags": [],
        "colab": {
          "base_uri": "https://localhost:8080/"
        },
        "id": "13f4b180",
        "outputId": "2c205759-3c06-4fe9-dfcc-a0eaab2b56aa"
      },
      "outputs": [
        {
          "output_type": "stream",
          "name": "stdout",
          "text": [
            "Total Suspected Patients : 540 \n",
            "Total Healthy Patients : 75 \n"
          ]
        }
      ],
      "source": [
        "print ('Total Suspected Patients : {} '.format(df.Category.value_counts()[0]))\n",
        "print ('Total Healthy Patients : {} '.format(df.Category.value_counts()[1]))"
      ]
    },
    {
      "cell_type": "code",
      "execution_count": null,
      "id": "85d88260",
      "metadata": {
        "_kg_hide-input": true,
        "execution": {
          "iopub.execute_input": "2021-09-25T11:36:23.134055Z",
          "iopub.status.busy": "2021-09-25T11:36:23.126530Z",
          "iopub.status.idle": "2021-09-25T11:36:23.246160Z",
          "shell.execute_reply": "2021-09-25T11:36:23.245621Z",
          "shell.execute_reply.started": "2021-09-25T11:33:53.564855Z"
        },
        "papermill": {
          "duration": 0.195384,
          "end_time": "2021-09-25T11:36:23.246295",
          "exception": false,
          "start_time": "2021-09-25T11:36:23.050911",
          "status": "completed"
        },
        "tags": [],
        "colab": {
          "base_uri": "https://localhost:8080/",
          "height": 529
        },
        "id": "85d88260",
        "outputId": "cf4807f9-b926-4dbc-b739-9bb5b12bd0d1"
      },
      "outputs": [
        {
          "output_type": "display_data",
          "data": {
            "text/plain": [
              "<Figure size 640x640 with 1 Axes>"
            ],
            "image/png": "[encoded data removed]"
          },
          "metadata": {}
        }
      ],
      "source": [
        "fig, ax = plt.subplots(figsize=(8,8))\n",
        "\n",
        "plt.pie(x=df[\"Category\"].value_counts(),\n",
        "        colors=[\"green\",\"red\"],\n",
        "        labels=[\"Suspected Patients\",\"Healthy Patients\"],\n",
        "        shadow = True,\n",
        "        explode = (0, 0.1)\n",
        "        )\n",
        "\n",
        "plt.show()"
      ]
    },
    {
      "cell_type": "code",
      "execution_count": null,
      "id": "e49ae9dc",
      "metadata": {
        "execution": {
          "iopub.execute_input": "2021-09-25T11:36:23.368299Z",
          "iopub.status.busy": "2021-09-25T11:36:23.367490Z",
          "iopub.status.idle": "2021-09-25T11:36:23.371310Z",
          "shell.execute_reply": "2021-09-25T11:36:23.370833Z",
          "shell.execute_reply.started": "2021-09-25T11:33:53.711585Z"
        },
        "papermill": {
          "duration": 0.067693,
          "end_time": "2021-09-25T11:36:23.371460",
          "exception": false,
          "start_time": "2021-09-25T11:36:23.303767",
          "status": "completed"
        },
        "tags": [],
        "colab": {
          "base_uri": "https://localhost:8080/"
        },
        "id": "e49ae9dc",
        "outputId": "f9d40329-593a-4b38-9ecf-1857687fc71f"
      },
      "outputs": [
        {
          "output_type": "execute_result",
          "data": {
            "text/plain": [
              "1    377\n",
              "2    238\n",
              "Name: Sex, dtype: int64"
            ]
          },
          "metadata": {},
          "execution_count": 19
        }
      ],
      "source": [
        "df.Sex.value_counts()"
      ]
    },
    {
      "cell_type": "code",
      "execution_count": null,
      "id": "f54b1379",
      "metadata": {
        "_kg_hide-input": true,
        "execution": {
          "iopub.execute_input": "2021-09-25T11:36:23.488893Z",
          "iopub.status.busy": "2021-09-25T11:36:23.488234Z",
          "iopub.status.idle": "2021-09-25T11:36:23.594077Z",
          "shell.execute_reply": "2021-09-25T11:36:23.594703Z",
          "shell.execute_reply.started": "2021-09-25T11:33:53.721409Z"
        },
        "papermill": {
          "duration": 0.166319,
          "end_time": "2021-09-25T11:36:23.594865",
          "exception": false,
          "start_time": "2021-09-25T11:36:23.428546",
          "status": "completed"
        },
        "tags": [],
        "colab": {
          "base_uri": "https://localhost:8080/",
          "height": 529
        },
        "id": "f54b1379",
        "outputId": "49a8b28f-425f-47d1-87fd-b5639539a717"
      },
      "outputs": [
        {
          "output_type": "display_data",
          "data": {
            "text/plain": [
              "<Figure size 640x640 with 1 Axes>"
            ],
            "image/png": "[encoded data removed]"
          },
          "metadata": {}
        }
      ],
      "source": [
        "fig, ax = plt.subplots(figsize=(8,8))\n",
        "plt.pie(x=df[\"Sex\"].value_counts(),\n",
        "        colors=[\"pink\",\"skyblue\"],\n",
        "        labels=[\"Male\",\"Female\"],\n",
        "        shadow = True,\n",
        "        autopct=\"%1.2f%%\",\n",
        "        explode = (0, 0.1)\n",
        "        )\n",
        "plt.show()"
      ]
    },
    {
      "cell_type": "code",
      "execution_count": null,
      "id": "c1cb455e",
      "metadata": {
        "_kg_hide-input": true,
        "execution": {
          "iopub.execute_input": "2021-09-25T11:36:23.712615Z",
          "iopub.status.busy": "2021-09-25T11:36:23.711922Z",
          "iopub.status.idle": "2021-09-25T11:36:29.884537Z",
          "shell.execute_reply": "2021-09-25T11:36:29.885048Z",
          "shell.execute_reply.started": "2021-09-25T11:33:53.847150Z"
        },
        "papermill": {
          "duration": 6.233092,
          "end_time": "2021-09-25T11:36:29.885206",
          "exception": false,
          "start_time": "2021-09-25T11:36:23.652114",
          "status": "completed"
        },
        "tags": [],
        "colab": {
          "base_uri": "https://localhost:8080/",
          "height": 1000
        },
        "id": "c1cb455e",
        "outputId": "54f484e6-323d-45cc-f7f4-51ba97cbf534"
      },
      "outputs": [
        {
          "output_type": "display_data",
          "data": {
            "text/plain": [
              "<Figure size 1440x1800 with 10 Axes>"
            ],
            "image/png": "[encoded data removed]"
          },
          "metadata": {
            "needs_background": "light"
          }
        }
      ],
      "source": [
        "fig, ax =plt.subplots(5,2, figsize=(20,25))\n",
        "plt.style.use(\"classic\")\n",
        "\n",
        "\n",
        "sns.histplot(x = df[\"Age\"], hue = df[\"Category\"], palette=\"viridis\", kde=True, ax=ax[0,0]);\n",
        "ax[0,0].set_xlabel(\"Age\",fontsize=15)\n",
        "\n",
        "sns.histplot(x = df[\"ALB\"], hue = df[\"Category\"], palette=\"viridis\", kde=True, ax=ax[0,1]);\n",
        "ax[0,1].set_xlabel(\"ALB\",fontsize=15)\n",
        "\n",
        "\n",
        "sns.histplot(x = df[\"ALP\"], hue = df[\"Category\"], palette=\"dark\", kde=True, ax=ax[1,0]);\n",
        "ax[1,0].set_xlabel(\"ALP\",fontsize=15)\n",
        "\n",
        "sns.histplot(x = df[\"ALT\"], hue = df[\"Category\"], palette=\"dark\", kde=True, ax=ax[1,1]);\n",
        "ax[1,1].set_xlabel(\"ALT\",fontsize=15)\n",
        "\n",
        "\n",
        "sns.histplot(x = df[\"AST\"], hue = df[\"Category\"], palette=\"flare\", kde=True, ax=ax[2,0]);\n",
        "ax[2,0].set_xlabel(\"AST\",fontsize=15)\n",
        "\n",
        "sns.histplot(x = df[\"BIL\"], hue = df[\"Category\"], palette=\"flare\", kde=True, ax=ax[2,1]);\n",
        "ax[2,1].set_xlabel(\"BIL\",fontsize=15)\n",
        "\n",
        "\n",
        "sns.histplot(x = df[\"CHE\"], hue = df[\"Category\"], palette=\"viridis\", kde=True, ax=ax[3,0]);\n",
        "ax[3,0].set_xlabel(\"CHE\",fontsize=15)\n",
        "\n",
        "sns.histplot(x = df[\"CHOL\"], hue = df[\"Category\"], palette=\"viridis\", kde=True, ax=ax[3,1]);\n",
        "ax[3,1].set_xlabel(\"CHOL\",fontsize=15);\n",
        "\n",
        "\n",
        "sns.histplot(x = df[\"CREA\"], hue = df[\"Category\"], palette=\"dark\", kde=True, ax=ax[4,0]);\n",
        "ax[4,0].set_xlabel(\"CREA\",fontsize=15)\n",
        "\n",
        "sns.histplot(x = df[\"GGT\"], hue = df[\"Category\"], palette=\"dark\", kde=True, ax=ax[4,1]);\n",
        "ax[4,1].set_xlabel(\"GGT\",fontsize=15);"
      ]
    },
    {
      "cell_type": "markdown",
      "id": "edfabdd6",
      "metadata": {
        "papermill": {
          "duration": 0.063346,
          "end_time": "2021-09-25T11:36:30.012357",
          "exception": false,
          "start_time": "2021-09-25T11:36:29.949011",
          "status": "completed"
        },
        "tags": [],
        "id": "edfabdd6"
      },
      "source": [
        "## Splitting the data into training and test datasets\n",
        "Here, we are trying to predict whether the patient has Hepatitis C or not using the given data. Hence, the `Category` will be the y label and rest of the data will be the X or the input data."
      ]
    },
    {
      "cell_type": "code",
      "execution_count": null,
      "id": "66188bf2",
      "metadata": {
        "execution": {
          "iopub.execute_input": "2021-09-25T11:36:30.161417Z",
          "iopub.status.busy": "2021-09-25T11:36:30.160616Z",
          "iopub.status.idle": "2021-09-25T11:36:30.164311Z",
          "shell.execute_reply": "2021-09-25T11:36:30.163701Z",
          "shell.execute_reply.started": "2021-09-25T11:34:00.667738Z"
        },
        "papermill": {
          "duration": 0.088323,
          "end_time": "2021-09-25T11:36:30.164466",
          "exception": false,
          "start_time": "2021-09-25T11:36:30.076143",
          "status": "completed"
        },
        "tags": [],
        "colab": {
          "base_uri": "https://localhost:8080/",
          "height": 206
        },
        "id": "66188bf2",
        "outputId": "3d435a56-3806-4c35-d356-0bc0bcd9bd68"
      },
      "outputs": [
        {
          "output_type": "execute_result",
          "data": {
            "text/plain": [
              "   Age  Sex   ALB   ALP   ALT   AST   BIL    CHE  CHOL   CREA   GGT  PROT\n",
              "0   32    1  38.5  52.5   7.7  22.1   7.5   6.93  3.23  106.0  12.1  69.0\n",
              "1   32    1  38.5  70.3  18.0  24.7   3.9  11.17  4.80   74.0  15.6  76.5\n",
              "2   32    1  46.9  74.7  36.2  52.6   6.1   8.84  5.20   86.0  33.2  79.3\n",
              "3   32    1  43.2  52.0  30.6  22.6  18.9   7.33  4.74   80.0  33.8  75.7\n",
              "4   32    1  39.2  74.1  32.6  24.8   9.6   9.15  4.32   76.0  29.9  68.7"
            ],
            "text/html": [
              "\n",
              "  <div id=\"df-cf6e1536-8bcb-4a46-a513-a13a6c43e82d\">\n",
              "    <div class=\"colab-df-container\">\n",
              "      <div>\n",
              "<style scoped>\n",
              "    .dataframe tbody tr th:only-of-type {\n",
              "        vertical-align: middle;\n",
              "    }\n",
              "\n",
              "    .dataframe tbody tr th {\n",
              "        vertical-align: top;\n",
              "    }\n",
              "\n",
              "    .dataframe thead th {\n",
              "        text-align: right;\n",
              "    }\n",
              "</style>\n",
              "<table border=\"1\" class=\"dataframe\">\n",
              "  <thead>\n",
              "    <tr style=\"text-align: right;\">\n",
              "      <th></th>\n",
              "      <th>Age</th>\n",
              "      <th>Sex</th>\n",
              "      <th>ALB</th>\n",
              "      <th>ALP</th>\n",
              "      <th>ALT</th>\n",
              "      <th>AST</th>\n",
              "      <th>BIL</th>\n",
              "      <th>CHE</th>\n",
              "      <th>CHOL</th>\n",
              "      <th>CREA</th>\n",
              "      <th>GGT</th>\n",
              "      <th>PROT</th>\n",
              "    </tr>\n",
              "  </thead>\n",
              "  <tbody>\n",
              "    <tr>\n",
              "      <th>0</th>\n",
              "      <td>32</td>\n",
              "      <td>1</td>\n",
              "      <td>38.5</td>\n",
              "      <td>52.5</td>\n",
              "      <td>7.7</td>\n",
              "      <td>22.1</td>\n",
              "      <td>7.5</td>\n",
              "      <td>6.93</td>\n",
              "      <td>3.23</td>\n",
              "      <td>106.0</td>\n",
              "      <td>12.1</td>\n",
              "      <td>69.0</td>\n",
              "    </tr>\n",
              "    <tr>\n",
              "      <th>1</th>\n",
              "      <td>32</td>\n",
              "      <td>1</td>\n",
              "      <td>38.5</td>\n",
              "      <td>70.3</td>\n",
              "      <td>18.0</td>\n",
              "      <td>24.7</td>\n",
              "      <td>3.9</td>\n",
              "      <td>11.17</td>\n",
              "      <td>4.80</td>\n",
              "      <td>74.0</td>\n",
              "      <td>15.6</td>\n",
              "      <td>76.5</td>\n",
              "    </tr>\n",
              "    <tr>\n",
              "      <th>2</th>\n",
              "      <td>32</td>\n",
              "      <td>1</td>\n",
              "      <td>46.9</td>\n",
              "      <td>74.7</td>\n",
              "      <td>36.2</td>\n",
              "      <td>52.6</td>\n",
              "      <td>6.1</td>\n",
              "      <td>8.84</td>\n",
              "      <td>5.20</td>\n",
              "      <td>86.0</td>\n",
              "      <td>33.2</td>\n",
              "      <td>79.3</td>\n",
              "    </tr>\n",
              "    <tr>\n",
              "      <th>3</th>\n",
              "      <td>32</td>\n",
              "      <td>1</td>\n",
              "      <td>43.2</td>\n",
              "      <td>52.0</td>\n",
              "      <td>30.6</td>\n",
              "      <td>22.6</td>\n",
              "      <td>18.9</td>\n",
              "      <td>7.33</td>\n",
              "      <td>4.74</td>\n",
              "      <td>80.0</td>\n",
              "      <td>33.8</td>\n",
              "      <td>75.7</td>\n",
              "    </tr>\n",
              "    <tr>\n",
              "      <th>4</th>\n",
              "      <td>32</td>\n",
              "      <td>1</td>\n",
              "      <td>39.2</td>\n",
              "      <td>74.1</td>\n",
              "      <td>32.6</td>\n",
              "      <td>24.8</td>\n",
              "      <td>9.6</td>\n",
              "      <td>9.15</td>\n",
              "      <td>4.32</td>\n",
              "      <td>76.0</td>\n",
              "      <td>29.9</td>\n",
              "      <td>68.7</td>\n",
              "    </tr>\n",
              "  </tbody>\n",
              "</table>\n",
              "</div>\n",
              "      <button class=\"colab-df-convert\" onclick=\"convertToInteractive('df-cf6e1536-8bcb-4a46-a513-a13a6c43e82d')\"\n",
              "              title=\"Convert this dataframe to an interactive table.\"\n",
              "              style=\"display:none;\">\n",
              "        \n",
              "  <svg xmlns=\"http://www.w3.org/2000/svg\" height=\"24px\"viewBox=\"0 0 24 24\"\n",
              "       width=\"24px\">\n",
              "    <path d=\"M0 0h24v24H0V0z\" fill=\"none\"/>\n",
              "    <path d=\"M18.56 5.44l.94 2.06.94-2.06 2.06-.94-2.06-.94-.94-2.06-.94 2.06-2.06.94zm-11 1L8.5 8.5l.94-2.06 2.06-.94-2.06-.94L8.5 2.5l-.94 2.06-2.06.94zm10 10l.94 2.06.94-2.06 2.06-.94-2.06-.94-.94-2.06-.94 2.06-2.06.94z\"/><path d=\"M17.41 7.96l-1.37-1.37c-.4-.4-.92-.59-1.43-.59-.52 0-1.04.2-1.43.59L10.3 9.45l-7.72 7.72c-.78.78-.78 2.05 0 2.83L4 21.41c.39.39.9.59 1.41.59.51 0 1.02-.2 1.41-.59l7.78-7.78 2.81-2.81c.8-.78.8-2.07 0-2.86zM5.41 20L4 18.59l7.72-7.72 1.47 1.35L5.41 20z\"/>\n",
              "  </svg>\n",
              "      </button>\n",
              "      \n",
              "  <style>\n",
              "    .colab-df-container {\n",
              "      display:flex;\n",
              "      flex-wrap:wrap;\n",
              "      gap: 12px;\n",
              "    }\n",
              "\n",
              "    .colab-df-convert {\n",
              "      background-color: #E8F0FE;\n",
              "      border: none;\n",
              "      border-radius: 50%;\n",
              "      cursor: pointer;\n",
              "      display: none;\n",
              "      fill: #1967D2;\n",
              "      height: 32px;\n",
              "      padding: 0 0 0 0;\n",
              "      width: 32px;\n",
              "    }\n",
              "\n",
              "    .colab-df-convert:hover {\n",
              "      background-color: #E2EBFA;\n",
              "      box-shadow: 0px 1px 2px rgba(60, 64, 67, 0.3), 0px 1px 3px 1px rgba(60, 64, 67, 0.15);\n",
              "      fill: #174EA6;\n",
              "    }\n",
              "\n",
              "    [theme=dark] .colab-df-convert {\n",
              "      background-color: #3B4455;\n",
              "      fill: #D2E3FC;\n",
              "    }\n",
              "\n",
              "    [theme=dark] .colab-df-convert:hover {\n",
              "      background-color: #434B5C;\n",
              "      box-shadow: 0px 1px 3px 1px rgba(0, 0, 0, 0.15);\n",
              "      filter: drop-shadow(0px 1px 2px rgba(0, 0, 0, 0.3));\n",
              "      fill: #FFFFFF;\n",
              "    }\n",
              "  </style>\n",
              "\n",
              "      <script>\n",
              "        const buttonEl =\n",
              "          document.querySelector('#df-cf6e1536-8bcb-4a46-a513-a13a6c43e82d button.colab-df-convert');\n",
              "        buttonEl.style.display =\n",
              "          google.colab.kernel.accessAllowed ? 'block' : 'none';\n",
              "\n",
              "        async function convertToInteractive(key) {\n",
              "          const element = document.querySelector('#df-cf6e1536-8bcb-4a46-a513-a13a6c43e82d');\n",
              "          const dataTable =\n",
              "            await google.colab.kernel.invokeFunction('convertToInteractive',\n",
              "                                                     [key], {});\n",
              "          if (!dataTable) return;\n",
              "\n",
              "          const docLinkHtml = 'Like what you see? Visit the ' +\n",
              "            '<a target=\"_blank\" href=https://colab.research.google.com/notebooks/data_table.ipynb>data table notebook</a>'\n",
              "            + ' to learn more about interactive tables.';\n",
              "          element.innerHTML = '';\n",
              "          dataTable['output_type'] = 'display_data';\n",
              "          await google.colab.output.renderOutput(dataTable, element);\n",
              "          const docLink = document.createElement('div');\n",
              "          docLink.innerHTML = docLinkHtml;\n",
              "          element.appendChild(docLink);\n",
              "        }\n",
              "      </script>\n",
              "    </div>\n",
              "  </div>\n",
              "  "
            ]
          },
          "metadata": {},
          "execution_count": 22
        }
      ],
      "source": [
        "# X data\n",
        "X = df.drop(\"Category\", axis=1)\n",
        "X.head()"
      ]
    },
    {
      "cell_type": "code",
      "execution_count": null,
      "id": "9f2e7675",
      "metadata": {
        "execution": {
          "iopub.execute_input": "2021-09-25T11:36:30.299127Z",
          "iopub.status.busy": "2021-09-25T11:36:30.298210Z",
          "iopub.status.idle": "2021-09-25T11:36:30.302120Z",
          "shell.execute_reply": "2021-09-25T11:36:30.301665Z",
          "shell.execute_reply.started": "2021-09-25T11:34:00.702235Z"
        },
        "papermill": {
          "duration": 0.074982,
          "end_time": "2021-09-25T11:36:30.302242",
          "exception": false,
          "start_time": "2021-09-25T11:36:30.227260",
          "status": "completed"
        },
        "tags": [],
        "colab": {
          "base_uri": "https://localhost:8080/"
        },
        "id": "9f2e7675",
        "outputId": "36eb01a7-81ca-4a07-b7f4-0197e4acd53b"
      },
      "outputs": [
        {
          "output_type": "execute_result",
          "data": {
            "text/plain": [
              "0    0\n",
              "1    0\n",
              "2    0\n",
              "3    0\n",
              "4    0\n",
              "Name: Category, dtype: int64"
            ]
          },
          "metadata": {},
          "execution_count": 23
        }
      ],
      "source": [
        "# y data\n",
        "y = df[\"Category\"]\n",
        "y.head()"
      ]
    },
    {
      "cell_type": "code",
      "execution_count": null,
      "id": "e832d631",
      "metadata": {
        "execution": {
          "iopub.execute_input": "2021-09-25T11:36:30.433236Z",
          "iopub.status.busy": "2021-09-25T11:36:30.432617Z",
          "iopub.status.idle": "2021-09-25T11:36:30.589605Z",
          "shell.execute_reply": "2021-09-25T11:36:30.588924Z",
          "shell.execute_reply.started": "2021-09-25T11:34:00.714390Z"
        },
        "papermill": {
          "duration": 0.224124,
          "end_time": "2021-09-25T11:36:30.589761",
          "exception": false,
          "start_time": "2021-09-25T11:36:30.365637",
          "status": "completed"
        },
        "tags": [],
        "id": "e832d631"
      },
      "outputs": [],
      "source": [
        "from sklearn.model_selection import train_test_split\n",
        "X_train, X_test, y_train, y_test = train_test_split(X, y, test_size=0.2, random_state=42)"
      ]
    },
    {
      "cell_type": "code",
      "execution_count": null,
      "id": "9a0b6b70",
      "metadata": {
        "execution": {
          "iopub.execute_input": "2021-09-25T11:36:30.721649Z",
          "iopub.status.busy": "2021-09-25T11:36:30.720669Z",
          "iopub.status.idle": "2021-09-25T11:36:30.724956Z",
          "shell.execute_reply": "2021-09-25T11:36:30.724312Z",
          "shell.execute_reply.started": "2021-09-25T11:34:00.938602Z"
        },
        "papermill": {
          "duration": 0.072701,
          "end_time": "2021-09-25T11:36:30.725101",
          "exception": false,
          "start_time": "2021-09-25T11:36:30.652400",
          "status": "completed"
        },
        "tags": [],
        "colab": {
          "base_uri": "https://localhost:8080/"
        },
        "id": "9a0b6b70",
        "outputId": "7e3b7c57-870b-4af6-9b43-84ff5ce43411"
      },
      "outputs": [
        {
          "output_type": "execute_result",
          "data": {
            "text/plain": [
              "(492, 123)"
            ]
          },
          "metadata": {},
          "execution_count": 25
        }
      ],
      "source": [
        "len(X_train), len(X_test)"
      ]
    },
    {
      "cell_type": "code",
      "execution_count": null,
      "id": "12243ccd",
      "metadata": {
        "execution": {
          "iopub.execute_input": "2021-09-25T11:36:30.860143Z",
          "iopub.status.busy": "2021-09-25T11:36:30.859480Z",
          "iopub.status.idle": "2021-09-25T11:36:30.867017Z",
          "shell.execute_reply": "2021-09-25T11:36:30.866522Z",
          "shell.execute_reply.started": "2021-09-25T11:34:00.950214Z"
        },
        "papermill": {
          "duration": 0.077155,
          "end_time": "2021-09-25T11:36:30.867155",
          "exception": false,
          "start_time": "2021-09-25T11:36:30.790000",
          "status": "completed"
        },
        "tags": [],
        "id": "12243ccd"
      },
      "outputs": [],
      "source": [
        "# Scaling the data\n",
        "\n",
        "from sklearn.preprocessing import StandardScaler\n",
        "scaler = StandardScaler()\n",
        "X_train = scaler.fit_transform(X_train)\n",
        "X_test = scaler.transform(X_test)"
      ]
    },
    {
      "cell_type": "markdown",
      "id": "4d27090e",
      "metadata": {
        "papermill": {
          "duration": 0.063417,
          "end_time": "2021-09-25T11:36:30.995422",
          "exception": false,
          "start_time": "2021-09-25T11:36:30.932005",
          "status": "completed"
        },
        "tags": [],
        "id": "4d27090e"
      },
      "source": [
        "## LogisticRegression"
      ]
    },
    {
      "cell_type": "code",
      "execution_count": null,
      "id": "0b87c9ad",
      "metadata": {
        "execution": {
          "iopub.execute_input": "2021-09-25T11:36:31.133451Z",
          "iopub.status.busy": "2021-09-25T11:36:31.132746Z",
          "iopub.status.idle": "2021-09-25T11:36:31.212618Z",
          "shell.execute_reply": "2021-09-25T11:36:31.213164Z",
          "shell.execute_reply.started": "2021-09-25T11:34:00.971612Z"
        },
        "papermill": {
          "duration": 0.153464,
          "end_time": "2021-09-25T11:36:31.213336",
          "exception": false,
          "start_time": "2021-09-25T11:36:31.059872",
          "status": "completed"
        },
        "tags": [],
        "colab": {
          "base_uri": "https://localhost:8080/"
        },
        "id": "0b87c9ad",
        "outputId": "97485d94-aa38-49c5-9292-3c309cf130d0"
      },
      "outputs": [
        {
          "output_type": "execute_result",
          "data": {
            "text/plain": [
              "LogisticRegression()"
            ]
          },
          "metadata": {},
          "execution_count": 27
        }
      ],
      "source": [
        "from sklearn.linear_model import LogisticRegression\n",
        "lr = LogisticRegression()\n",
        "lr.fit(X_train, y_train)"
      ]
    },
    {
      "cell_type": "code",
      "execution_count": null,
      "id": "23ca6c34",
      "metadata": {
        "execution": {
          "iopub.execute_input": "2021-09-25T11:36:31.344262Z",
          "iopub.status.busy": "2021-09-25T11:36:31.343609Z",
          "iopub.status.idle": "2021-09-25T11:36:31.350106Z",
          "shell.execute_reply": "2021-09-25T11:36:31.350621Z",
          "shell.execute_reply.started": "2021-09-25T11:34:01.101009Z"
        },
        "papermill": {
          "duration": 0.073518,
          "end_time": "2021-09-25T11:36:31.350804",
          "exception": false,
          "start_time": "2021-09-25T11:36:31.277286",
          "status": "completed"
        },
        "tags": [],
        "colab": {
          "base_uri": "https://localhost:8080/"
        },
        "id": "23ca6c34",
        "outputId": "3a964988-a6d2-4d43-e752-6679b548647f"
      },
      "outputs": [
        {
          "output_type": "stream",
          "name": "stdout",
          "text": [
            "Accuracy obtained by Logistic Regression model: 88.6178861788618\n"
          ]
        }
      ],
      "source": [
        "LogisticRegressionScore = lr.score(X_test, y_test)\n",
        "print(\"Accuracy obtained by Logistic Regression model:\",LogisticRegressionScore*100)"
      ]
    },
    {
      "cell_type": "code",
      "execution_count": null,
      "id": "7f755a74",
      "metadata": {
        "execution": {
          "iopub.execute_input": "2021-09-25T11:36:31.508684Z",
          "iopub.status.busy": "2021-09-25T11:36:31.505315Z",
          "iopub.status.idle": "2021-09-25T11:36:31.705923Z",
          "shell.execute_reply": "2021-09-25T11:36:31.705353Z",
          "shell.execute_reply.started": "2021-09-25T11:34:01.111535Z"
        },
        "papermill": {
          "duration": 0.28931,
          "end_time": "2021-09-25T11:36:31.706060",
          "exception": false,
          "start_time": "2021-09-25T11:36:31.416750",
          "status": "completed"
        },
        "tags": [],
        "colab": {
          "base_uri": "https://localhost:8080/",
          "height": 456
        },
        "id": "7f755a74",
        "outputId": "baad8140-7d64-42ef-bb7f-d5f96415a25c"
      },
      "outputs": [
        {
          "output_type": "display_data",
          "data": {
            "text/plain": [
              "<Figure size 640x480 with 2 Axes>"
            ],
            "image/png": "[encoded data removed]"
          },
          "metadata": {}
        }
      ],
      "source": [
        "# Having a look at the confusion matrix for Logistic Regression\n",
        "\n",
        "from sklearn.metrics import confusion_matrix, classification_report\n",
        "sns.set_style(\"white\")\n",
        "y_pred_lr = lr.predict(X_test)\n",
        "cf_matrix = confusion_matrix(y_test, y_pred_lr)\n",
        "sns.heatmap(cf_matrix, annot=True, cmap=\"Greens_r\")\n",
        "plt.title(\"Confusion Matrix for Logistic Regression\", fontsize=14, fontname=\"Helvetica\", y=1.03);"
      ]
    },
    {
      "cell_type": "code",
      "execution_count": null,
      "id": "6aa8899f",
      "metadata": {
        "execution": {
          "iopub.execute_input": "2021-09-25T11:36:31.843539Z",
          "iopub.status.busy": "2021-09-25T11:36:31.842257Z",
          "iopub.status.idle": "2021-09-25T11:36:31.850484Z",
          "shell.execute_reply": "2021-09-25T11:36:31.850883Z",
          "shell.execute_reply.started": "2021-09-25T11:34:01.426504Z"
        },
        "papermill": {
          "duration": 0.07916,
          "end_time": "2021-09-25T11:36:31.851061",
          "exception": false,
          "start_time": "2021-09-25T11:36:31.771901",
          "status": "completed"
        },
        "tags": [],
        "colab": {
          "base_uri": "https://localhost:8080/"
        },
        "id": "6aa8899f",
        "outputId": "b7656cb6-be97-4a2f-a45b-ebb4e48501c0"
      },
      "outputs": [
        {
          "output_type": "stream",
          "name": "stdout",
          "text": [
            "              precision    recall  f1-score   support\n",
            "\n",
            "           0       0.89      0.98      0.93        99\n",
            "           1       0.86      0.50      0.63        24\n",
            "\n",
            "    accuracy                           0.89       123\n",
            "   macro avg       0.87      0.74      0.78       123\n",
            "weighted avg       0.88      0.89      0.87       123\n",
            "\n"
          ]
        }
      ],
      "source": [
        "# Having a look at the classification report of Logistic Regression\n",
        "\n",
        "from sklearn import metrics\n",
        "print(metrics.classification_report(y_test, y_pred_lr))"
      ]
    },
    {
      "cell_type": "markdown",
      "id": "8292c970",
      "metadata": {
        "papermill": {
          "duration": 0.065122,
          "end_time": "2021-09-25T11:36:31.981961",
          "exception": false,
          "start_time": "2021-09-25T11:36:31.916839",
          "status": "completed"
        },
        "tags": [],
        "id": "8292c970"
      },
      "source": [
        "## Random Forest Classifier"
      ]
    },
    {
      "cell_type": "code",
      "execution_count": null,
      "id": "f9194049",
      "metadata": {
        "execution": {
          "iopub.execute_input": "2021-09-25T11:36:32.126495Z",
          "iopub.status.busy": "2021-09-25T11:36:32.125853Z",
          "iopub.status.idle": "2021-09-25T11:36:32.453531Z",
          "shell.execute_reply": "2021-09-25T11:36:32.453036Z",
          "shell.execute_reply.started": "2021-09-25T11:34:01.445906Z"
        },
        "papermill": {
          "duration": 0.405915,
          "end_time": "2021-09-25T11:36:32.453669",
          "exception": false,
          "start_time": "2021-09-25T11:36:32.047754",
          "status": "completed"
        },
        "tags": [],
        "colab": {
          "base_uri": "https://localhost:8080/"
        },
        "id": "f9194049",
        "outputId": "da40b2c3-3c5a-4263-f886-afe5ce0c94f6"
      },
      "outputs": [
        {
          "output_type": "execute_result",
          "data": {
            "text/plain": [
              "RandomForestClassifier()"
            ]
          },
          "metadata": {},
          "execution_count": 31
        }
      ],
      "source": [
        "from sklearn.ensemble import RandomForestClassifier\n",
        "rfc = RandomForestClassifier()\n",
        "rfc.fit(X_train, y_train)"
      ]
    },
    {
      "cell_type": "code",
      "execution_count": null,
      "id": "5d13b4c7",
      "metadata": {
        "execution": {
          "iopub.execute_input": "2021-09-25T11:36:32.593689Z",
          "iopub.status.busy": "2021-09-25T11:36:32.592820Z",
          "iopub.status.idle": "2021-09-25T11:36:32.606742Z",
          "shell.execute_reply": "2021-09-25T11:36:32.606276Z",
          "shell.execute_reply.started": "2021-09-25T11:34:01.826191Z"
        },
        "papermill": {
          "duration": 0.086826,
          "end_time": "2021-09-25T11:36:32.606873",
          "exception": false,
          "start_time": "2021-09-25T11:36:32.520047",
          "status": "completed"
        },
        "tags": [],
        "colab": {
          "base_uri": "https://localhost:8080/"
        },
        "id": "5d13b4c7",
        "outputId": "c9293961-04ff-4c1a-ad65-c22c113ef835"
      },
      "outputs": [
        {
          "output_type": "stream",
          "name": "stdout",
          "text": [
            "Accacy obtained by Random Forest Classifier : 93.4959349593496\n"
          ]
        }
      ],
      "source": [
        "RandomForestClassifierScore = rfc.score(X_test,y_test)\n",
        "print(\"Accacy obtained by Random Forest Classifier :\", RandomForestClassifierScore*100)"
      ]
    },
    {
      "cell_type": "code",
      "execution_count": null,
      "id": "3e6938c9",
      "metadata": {
        "execution": {
          "iopub.execute_input": "2021-09-25T11:36:32.748873Z",
          "iopub.status.busy": "2021-09-25T11:36:32.747654Z",
          "iopub.status.idle": "2021-09-25T11:36:33.013412Z",
          "shell.execute_reply": "2021-09-25T11:36:33.013913Z",
          "shell.execute_reply.started": "2021-09-25T11:34:01.849554Z"
        },
        "papermill": {
          "duration": 0.340846,
          "end_time": "2021-09-25T11:36:33.014091",
          "exception": false,
          "start_time": "2021-09-25T11:36:32.673245",
          "status": "completed"
        },
        "tags": [],
        "colab": {
          "base_uri": "https://localhost:8080/",
          "height": 456
        },
        "id": "3e6938c9",
        "outputId": "2c1a91d4-1428-4122-c742-35b98fdf39dc"
      },
      "outputs": [
        {
          "output_type": "display_data",
          "data": {
            "text/plain": [
              "<Figure size 640x480 with 2 Axes>"
            ],
            "image/png": "[encoded data removed]"
          },
          "metadata": {}
        }
      ],
      "source": [
        "# Confusion Matrix of Random Forest Classifier\n",
        "\n",
        "y_pred_rfc = rfc.predict(X_test)\n",
        "cf_matrix = confusion_matrix(y_test, y_pred_rfc)\n",
        "sns.heatmap(cf_matrix, annot=True, cmap=\"Greens_r\")\n",
        "plt.title(\"Confusion Matrix for Random Forest Classifier\", fontsize=14, fontname=\"Helvetica\", y=1.03);"
      ]
    },
    {
      "cell_type": "code",
      "execution_count": null,
      "id": "bc621bde",
      "metadata": {
        "execution": {
          "iopub.execute_input": "2021-09-25T11:36:33.152992Z",
          "iopub.status.busy": "2021-09-25T11:36:33.152314Z",
          "iopub.status.idle": "2021-09-25T11:36:33.161724Z",
          "shell.execute_reply": "2021-09-25T11:36:33.161167Z",
          "shell.execute_reply.started": "2021-09-25T11:34:02.151528Z"
        },
        "papermill": {
          "duration": 0.080279,
          "end_time": "2021-09-25T11:36:33.161878",
          "exception": false,
          "start_time": "2021-09-25T11:36:33.081599",
          "status": "completed"
        },
        "tags": [],
        "colab": {
          "base_uri": "https://localhost:8080/"
        },
        "id": "bc621bde",
        "outputId": "7f6c6f82-0a00-43f9-e8eb-9604ebabb7ea"
      },
      "outputs": [
        {
          "output_type": "stream",
          "name": "stdout",
          "text": [
            "              precision    recall  f1-score   support\n",
            "\n",
            "           0       0.93      1.00      0.96        99\n",
            "           1       1.00      0.67      0.80        24\n",
            "\n",
            "    accuracy                           0.93       123\n",
            "   macro avg       0.96      0.83      0.88       123\n",
            "weighted avg       0.94      0.93      0.93       123\n",
            "\n"
          ]
        }
      ],
      "source": [
        "print(metrics.classification_report(y_test, y_pred_rfc))"
      ]
    },
    {
      "cell_type": "markdown",
      "id": "70291a7b",
      "metadata": {
        "papermill": {
          "duration": 0.067986,
          "end_time": "2021-09-25T11:36:33.299070",
          "exception": false,
          "start_time": "2021-09-25T11:36:33.231084",
          "status": "completed"
        },
        "tags": [],
        "id": "70291a7b"
      },
      "source": [
        "## K Neighbors Classifier"
      ]
    },
    {
      "cell_type": "code",
      "execution_count": null,
      "id": "00c082bb",
      "metadata": {
        "execution": {
          "iopub.execute_input": "2021-09-25T11:36:33.442279Z",
          "iopub.status.busy": "2021-09-25T11:36:33.436095Z",
          "iopub.status.idle": "2021-09-25T11:36:33.445816Z",
          "shell.execute_reply": "2021-09-25T11:36:33.446280Z",
          "shell.execute_reply.started": "2021-09-25T11:34:02.166212Z"
        },
        "papermill": {
          "duration": 0.080149,
          "end_time": "2021-09-25T11:36:33.446459",
          "exception": false,
          "start_time": "2021-09-25T11:36:33.366310",
          "status": "completed"
        },
        "tags": [],
        "colab": {
          "base_uri": "https://localhost:8080/"
        },
        "id": "00c082bb",
        "outputId": "f6e7cf93-1065-4079-fa10-c1eb4d6d7c2a"
      },
      "outputs": [
        {
          "output_type": "execute_result",
          "data": {
            "text/plain": [
              "KNeighborsClassifier()"
            ]
          },
          "metadata": {},
          "execution_count": 35
        }
      ],
      "source": [
        "from sklearn.neighbors import KNeighborsClassifier\n",
        "knn = KNeighborsClassifier()\n",
        "knn.fit(X_train, y_train)"
      ]
    },
    {
      "cell_type": "code",
      "execution_count": null,
      "id": "a9b27349",
      "metadata": {
        "execution": {
          "iopub.execute_input": "2021-09-25T11:36:33.586580Z",
          "iopub.status.busy": "2021-09-25T11:36:33.585986Z",
          "iopub.status.idle": "2021-09-25T11:36:33.597791Z",
          "shell.execute_reply": "2021-09-25T11:36:33.598438Z",
          "shell.execute_reply.started": "2021-09-25T11:34:02.179318Z"
        },
        "papermill": {
          "duration": 0.084365,
          "end_time": "2021-09-25T11:36:33.598677",
          "exception": false,
          "start_time": "2021-09-25T11:36:33.514312",
          "status": "completed"
        },
        "tags": [],
        "colab": {
          "base_uri": "https://localhost:8080/"
        },
        "id": "a9b27349",
        "outputId": "34131c8a-3303-486b-db2c-6443a1b5b60b"
      },
      "outputs": [
        {
          "output_type": "stream",
          "name": "stdout",
          "text": [
            "Accuracy obtained by K Neighbors Classifier : 85.36585365853658\n"
          ]
        }
      ],
      "source": [
        "KNeighborsClassifierScore = knn.score(X_test, y_test)\n",
        "print(\"Accuracy obtained by K Neighbors Classifier :\", KNeighborsClassifierScore*100)"
      ]
    },
    {
      "cell_type": "code",
      "execution_count": null,
      "id": "d82b907b",
      "metadata": {
        "execution": {
          "iopub.execute_input": "2021-09-25T11:36:33.742355Z",
          "iopub.status.busy": "2021-09-25T11:36:33.741462Z",
          "iopub.status.idle": "2021-09-25T11:36:34.161781Z",
          "shell.execute_reply": "2021-09-25T11:36:34.161238Z",
          "shell.execute_reply.started": "2021-09-25T11:34:02.199090Z"
        },
        "papermill": {
          "duration": 0.494537,
          "end_time": "2021-09-25T11:36:34.161930",
          "exception": false,
          "start_time": "2021-09-25T11:36:33.667393",
          "status": "completed"
        },
        "tags": [],
        "colab": {
          "base_uri": "https://localhost:8080/",
          "height": 456
        },
        "id": "d82b907b",
        "outputId": "b40e6686-8ade-4707-f468-25341a029ca6"
      },
      "outputs": [
        {
          "output_type": "display_data",
          "data": {
            "text/plain": [
              "<Figure size 640x480 with 2 Axes>"
            ],
            "image/png": "[encoded data removed]"
          },
          "metadata": {}
        }
      ],
      "source": [
        "# Confustion Matrix\n",
        "\n",
        "y_pred_knn = knn.predict(X_test)\n",
        "cf_matrix = confusion_matrix(y_test, y_pred_knn)\n",
        "sns.heatmap(cf_matrix, annot=True, cmap=\"Greens_r\")\n",
        "plt.title(\"Confusion Matrix for K Neighbors Classifier\", fontsize=14, fontname=\"Helvetica\", y=1.03);"
      ]
    },
    {
      "cell_type": "code",
      "execution_count": null,
      "id": "e6fb2ca7",
      "metadata": {
        "execution": {
          "iopub.execute_input": "2021-09-25T11:36:34.312436Z",
          "iopub.status.busy": "2021-09-25T11:36:34.311333Z",
          "iopub.status.idle": "2021-09-25T11:36:34.319165Z",
          "shell.execute_reply": "2021-09-25T11:36:34.319682Z",
          "shell.execute_reply.started": "2021-09-25T11:34:02.671770Z"
        },
        "papermill": {
          "duration": 0.086037,
          "end_time": "2021-09-25T11:36:34.319851",
          "exception": false,
          "start_time": "2021-09-25T11:36:34.233814",
          "status": "completed"
        },
        "tags": [],
        "colab": {
          "base_uri": "https://localhost:8080/"
        },
        "id": "e6fb2ca7",
        "outputId": "5e8ba25f-9fab-46c6-e561-856d602cb230"
      },
      "outputs": [
        {
          "output_type": "stream",
          "name": "stdout",
          "text": [
            "              precision    recall  f1-score   support\n",
            "\n",
            "           0       0.85      1.00      0.92        99\n",
            "           1       1.00      0.25      0.40        24\n",
            "\n",
            "    accuracy                           0.85       123\n",
            "   macro avg       0.92      0.62      0.66       123\n",
            "weighted avg       0.88      0.85      0.82       123\n",
            "\n"
          ]
        }
      ],
      "source": [
        "print(metrics.classification_report(y_test,y_pred_knn))"
      ]
    },
    {
      "cell_type": "markdown",
      "id": "e77388e9",
      "metadata": {
        "papermill": {
          "duration": 0.071307,
          "end_time": "2021-09-25T11:36:34.462959",
          "exception": false,
          "start_time": "2021-09-25T11:36:34.391652",
          "status": "completed"
        },
        "tags": [],
        "id": "e77388e9"
      },
      "source": [
        "## DecisionTreeClassifier"
      ]
    },
    {
      "cell_type": "code",
      "execution_count": null,
      "id": "bc5936ba",
      "metadata": {
        "execution": {
          "iopub.execute_input": "2021-09-25T11:36:34.608525Z",
          "iopub.status.busy": "2021-09-25T11:36:34.607864Z",
          "iopub.status.idle": "2021-09-25T11:36:34.616976Z",
          "shell.execute_reply": "2021-09-25T11:36:34.616468Z",
          "shell.execute_reply.started": "2021-09-25T11:34:02.686653Z"
        },
        "papermill": {
          "duration": 0.083811,
          "end_time": "2021-09-25T11:36:34.617106",
          "exception": false,
          "start_time": "2021-09-25T11:36:34.533295",
          "status": "completed"
        },
        "tags": [],
        "colab": {
          "base_uri": "https://localhost:8080/"
        },
        "id": "bc5936ba",
        "outputId": "1d70b07d-145e-49fe-9a5d-c8003b49d2f2"
      },
      "outputs": [
        {
          "output_type": "execute_result",
          "data": {
            "text/plain": [
              "DecisionTreeClassifier()"
            ]
          },
          "metadata": {},
          "execution_count": 39
        }
      ],
      "source": [
        "from sklearn.tree import DecisionTreeClassifier\n",
        "tree = DecisionTreeClassifier()\n",
        "tree.fit(X_train, y_train)"
      ]
    },
    {
      "cell_type": "code",
      "execution_count": null,
      "id": "ee0a5f74",
      "metadata": {
        "execution": {
          "iopub.execute_input": "2021-09-25T11:36:34.763026Z",
          "iopub.status.busy": "2021-09-25T11:36:34.762424Z",
          "iopub.status.idle": "2021-09-25T11:36:34.768181Z",
          "shell.execute_reply": "2021-09-25T11:36:34.767176Z",
          "shell.execute_reply.started": "2021-09-25T11:34:02.702752Z"
        },
        "papermill": {
          "duration": 0.080397,
          "end_time": "2021-09-25T11:36:34.768466",
          "exception": false,
          "start_time": "2021-09-25T11:36:34.688069",
          "status": "completed"
        },
        "tags": [],
        "colab": {
          "base_uri": "https://localhost:8080/"
        },
        "id": "ee0a5f74",
        "outputId": "b444c5c5-f5f1-4f39-fa36-105718a64480"
      },
      "outputs": [
        {
          "output_type": "stream",
          "name": "stdout",
          "text": [
            "Accuracy obtained by Decision Tree Classifier : 91.05691056910568\n"
          ]
        }
      ],
      "source": [
        "DecisionTreeClassifierScore = tree.score(X_test,y_test)\n",
        "print(\"Accuracy obtained by Decision Tree Classifier :\", DecisionTreeClassifierScore*100)"
      ]
    },
    {
      "cell_type": "code",
      "execution_count": null,
      "id": "d7330eb7",
      "metadata": {
        "execution": {
          "iopub.execute_input": "2021-09-25T11:36:34.919197Z",
          "iopub.status.busy": "2021-09-25T11:36:34.915087Z",
          "iopub.status.idle": "2021-09-25T11:36:35.174218Z",
          "shell.execute_reply": "2021-09-25T11:36:35.173082Z",
          "shell.execute_reply.started": "2021-09-25T11:34:02.713931Z"
        },
        "papermill": {
          "duration": 0.333563,
          "end_time": "2021-09-25T11:36:35.174389",
          "exception": false,
          "start_time": "2021-09-25T11:36:34.840826",
          "status": "completed"
        },
        "tags": [],
        "colab": {
          "base_uri": "https://localhost:8080/",
          "height": 456
        },
        "id": "d7330eb7",
        "outputId": "05922364-4a72-40a0-c22b-a93da9038332"
      },
      "outputs": [
        {
          "output_type": "display_data",
          "data": {
            "text/plain": [
              "<Figure size 640x480 with 2 Axes>"
            ],
            "image/png": "[encoded data removed]"
          },
          "metadata": {}
        }
      ],
      "source": [
        "y_pred_tree = tree.predict(X_test)\n",
        "cf_matrix = confusion_matrix(y_test, y_pred_tree)\n",
        "sns.heatmap(cf_matrix, annot=True, cmap=\"Greens_r\")\n",
        "plt.title(\"Confusion Metrix for Decision Tree Classifier\", fontsize=14, fontname=\"Helvetica\", y=1.03);"
      ]
    },
    {
      "cell_type": "code",
      "execution_count": null,
      "id": "faa9ba03",
      "metadata": {
        "execution": {
          "iopub.execute_input": "2021-09-25T11:36:35.324682Z",
          "iopub.status.busy": "2021-09-25T11:36:35.322255Z",
          "iopub.status.idle": "2021-09-25T11:36:35.328953Z",
          "shell.execute_reply": "2021-09-25T11:36:35.329561Z",
          "shell.execute_reply.started": "2021-09-25T11:34:03.000138Z"
        },
        "papermill": {
          "duration": 0.08433,
          "end_time": "2021-09-25T11:36:35.329728",
          "exception": false,
          "start_time": "2021-09-25T11:36:35.245398",
          "status": "completed"
        },
        "tags": [],
        "colab": {
          "base_uri": "https://localhost:8080/"
        },
        "id": "faa9ba03",
        "outputId": "49086469-f0ab-46ed-8101-fee00925cd66"
      },
      "outputs": [
        {
          "output_type": "stream",
          "name": "stdout",
          "text": [
            "              precision    recall  f1-score   support\n",
            "\n",
            "           0       0.92      0.98      0.95        99\n",
            "           1       0.88      0.62      0.73        24\n",
            "\n",
            "    accuracy                           0.91       123\n",
            "   macro avg       0.90      0.80      0.84       123\n",
            "weighted avg       0.91      0.91      0.90       123\n",
            "\n"
          ]
        }
      ],
      "source": [
        "print(metrics.classification_report(y_test, y_pred_tree));"
      ]
    },
    {
      "cell_type": "markdown",
      "id": "446c5160",
      "metadata": {
        "papermill": {
          "duration": 0.072062,
          "end_time": "2021-09-25T11:36:35.474648",
          "exception": false,
          "start_time": "2021-09-25T11:36:35.402586",
          "status": "completed"
        },
        "tags": [],
        "id": "446c5160"
      },
      "source": [
        "## CatBoost Classifier"
      ]
    },
    {
      "cell_type": "code",
      "source": [
        "from sklearn.model_selection import train_test_split\n",
        "\n",
        "X_train, X_val, y_train, y_val = train_test_split(X, y, test_size=0.2, random_state=0)"
      ],
      "metadata": {
        "id": "nAljeCDys11y"
      },
      "id": "nAljeCDys11y",
      "execution_count": null,
      "outputs": []
    },
    {
      "cell_type": "code",
      "execution_count": null,
      "id": "c2697e7c",
      "metadata": {
        "execution": {
          "iopub.execute_input": "2021-09-25T11:36:35.620640Z",
          "iopub.status.busy": "2021-09-25T11:36:35.620010Z",
          "iopub.status.idle": "2021-09-25T11:36:35.895412Z",
          "shell.execute_reply": "2021-09-25T11:36:35.894863Z",
          "shell.execute_reply.started": "2021-09-25T11:34:03.016999Z"
        },
        "papermill": {
          "duration": 0.34977,
          "end_time": "2021-09-25T11:36:35.895545",
          "exception": false,
          "start_time": "2021-09-25T11:36:35.545775",
          "status": "completed"
        },
        "tags": [],
        "colab": {
          "base_uri": "https://localhost:8080/",
          "height": 387
        },
        "id": "c2697e7c",
        "outputId": "d35bd782-eb34-43a4-b519-bde10a84a2ff"
      },
      "outputs": [
        {
          "output_type": "error",
          "ename": "ModuleNotFoundError",
          "evalue": "ignored",
          "traceback": [
            "\u001b[0;31m---------------------------------------------------------------------------\u001b[0m",
            "\u001b[0;31mModuleNotFoundError\u001b[0m                       Traceback (most recent call last)",
            "\u001b[0;32m<ipython-input-77-f0bd1f523f41>\u001b[0m in \u001b[0;36m<module>\u001b[0;34m\u001b[0m\n\u001b[0;32m----> 1\u001b[0;31m \u001b[0;32mfrom\u001b[0m \u001b[0mcatboost\u001b[0m \u001b[0;32mimport\u001b[0m \u001b[0mCatBoostClassifier\u001b[0m\u001b[0;34m\u001b[0m\u001b[0;34m\u001b[0m\u001b[0m\n\u001b[0m\u001b[1;32m      2\u001b[0m \u001b[0;34m\u001b[0m\u001b[0m\n\u001b[1;32m      3\u001b[0m clf = CatBoostClassifier(\n\u001b[1;32m      4\u001b[0m     \u001b[0miterations\u001b[0m\u001b[0;34m=\u001b[0m\u001b[0;36m5\u001b[0m\u001b[0;34m,\u001b[0m\u001b[0;34m\u001b[0m\u001b[0;34m\u001b[0m\u001b[0m\n\u001b[1;32m      5\u001b[0m     \u001b[0mlearning_rate\u001b[0m\u001b[0;34m=\u001b[0m\u001b[0;36m0.1\u001b[0m\u001b[0;34m,\u001b[0m\u001b[0;34m\u001b[0m\u001b[0;34m\u001b[0m\u001b[0m\n",
            "\u001b[0;31mModuleNotFoundError\u001b[0m: No module named 'catboost'",
            "",
            "\u001b[0;31m---------------------------------------------------------------------------\u001b[0;32m\nNOTE: If your import is failing due to a missing package, you can\nmanually install dependencies using either !pip or !apt.\n\nTo view examples of installing some common dependencies, click the\n\"Open Examples\" button below.\n\u001b[0;31m---------------------------------------------------------------------------\u001b[0m\n"
          ],
          "errorDetails": {
            "actions": [
              {
                "action": "open_url",
                "actionText": "Open Examples",
                "url": "/notebooks/snippets/importing_libraries.ipynb"
              }
            ]
          }
        }
      ],
      "source": [
        "from catboost import CatBoostClassifier\n",
        "\n",
        "clf = CatBoostClassifier(\n",
        "    iterations=5,\n",
        "    learning_rate=0.1,\n",
        "    #loss_function='CrossEntropy'\n",
        ")\n",
        "clf.fit(X_train, y_train);"
      ]
    },
    {
      "cell_type": "code",
      "source": [],
      "metadata": {
        "id": "YoG2afL9syID"
      },
      "id": "YoG2afL9syID",
      "execution_count": null,
      "outputs": []
    },
    {
      "cell_type": "code",
      "execution_count": null,
      "id": "bb6440bf",
      "metadata": {
        "execution": {
          "iopub.execute_input": "2021-09-25T11:36:36.043293Z",
          "iopub.status.busy": "2021-09-25T11:36:36.042735Z",
          "iopub.status.idle": "2021-09-25T11:36:36.050209Z",
          "shell.execute_reply": "2021-09-25T11:36:36.049695Z",
          "shell.execute_reply.started": "2021-09-25T11:34:03.403110Z"
        },
        "papermill": {
          "duration": 0.082223,
          "end_time": "2021-09-25T11:36:36.050356",
          "exception": false,
          "start_time": "2021-09-25T11:36:35.968133",
          "status": "completed"
        },
        "tags": [],
        "id": "bb6440bf"
      },
      "outputs": [],
      "source": [
        "CatBoostClassifierScore = cat.score(X_test,y_test)\n",
        "print(\"Accuracy obtained by CatBoost Classifier model:\",CatBoostClassifierScore*100)"
      ]
    },
    {
      "cell_type": "code",
      "execution_count": null,
      "id": "aa46fb58",
      "metadata": {
        "execution": {
          "iopub.execute_input": "2021-09-25T11:36:36.198199Z",
          "iopub.status.busy": "2021-09-25T11:36:36.197594Z",
          "iopub.status.idle": "2021-09-25T11:36:36.459664Z",
          "shell.execute_reply": "2021-09-25T11:36:36.459137Z",
          "shell.execute_reply.started": "2021-09-25T11:34:03.414579Z"
        },
        "papermill": {
          "duration": 0.337308,
          "end_time": "2021-09-25T11:36:36.459810",
          "exception": false,
          "start_time": "2021-09-25T11:36:36.122502",
          "status": "completed"
        },
        "tags": [],
        "id": "aa46fb58"
      },
      "outputs": [],
      "source": [
        "# Confusion matrix\n",
        "y_pred_cat = cat.predict(X_test)\n",
        "cf_matrix = confusion_matrix(y_test, y_pred_cat)\n",
        "sns.heatmap(cf_matrix, annot=True, cmap=\"Blues_r\")\n",
        "plt.title(\"Confusion Matrix for CatBoost Classifier\", fontsize=14, fontname=\"Helvetica\", y=1.03);"
      ]
    },
    {
      "cell_type": "code",
      "execution_count": null,
      "id": "519d089c",
      "metadata": {
        "execution": {
          "iopub.execute_input": "2021-09-25T11:36:36.611970Z",
          "iopub.status.busy": "2021-09-25T11:36:36.611338Z",
          "iopub.status.idle": "2021-09-25T11:36:36.618749Z",
          "shell.execute_reply": "2021-09-25T11:36:36.619418Z",
          "shell.execute_reply.started": "2021-09-25T11:34:03.719344Z"
        },
        "papermill": {
          "duration": 0.086436,
          "end_time": "2021-09-25T11:36:36.619646",
          "exception": false,
          "start_time": "2021-09-25T11:36:36.533210",
          "status": "completed"
        },
        "tags": [],
        "colab": {
          "base_uri": "https://localhost:8080/",
          "height": 206
        },
        "id": "519d089c",
        "outputId": "7253c215-fdc0-4c29-f50a-91090c4030ff"
      },
      "outputs": [
        {
          "output_type": "error",
          "ename": "NameError",
          "evalue": "ignored",
          "traceback": [
            "\u001b[0;31m---------------------------------------------------------------------------\u001b[0m",
            "\u001b[0;31mNameError\u001b[0m                                 Traceback (most recent call last)",
            "\u001b[0;32m<ipython-input-59-9c782d495155>\u001b[0m in \u001b[0;36m<module>\u001b[0;34m\u001b[0m\n\u001b[1;32m      1\u001b[0m \u001b[0;31m# Classification Report of CatBoost Classifier\u001b[0m\u001b[0;34m\u001b[0m\u001b[0;34m\u001b[0m\u001b[0;34m\u001b[0m\u001b[0m\n\u001b[1;32m      2\u001b[0m \u001b[0;34m\u001b[0m\u001b[0m\n\u001b[0;32m----> 3\u001b[0;31m \u001b[0mprint\u001b[0m\u001b[0;34m(\u001b[0m\u001b[0mmetrics\u001b[0m\u001b[0;34m.\u001b[0m\u001b[0mclassification_report\u001b[0m\u001b[0;34m(\u001b[0m\u001b[0my_test\u001b[0m\u001b[0;34m,\u001b[0m \u001b[0my_pred_cat\u001b[0m\u001b[0;34m)\u001b[0m\u001b[0;34m)\u001b[0m\u001b[0;34m\u001b[0m\u001b[0;34m\u001b[0m\u001b[0m\n\u001b[0m",
            "\u001b[0;31mNameError\u001b[0m: name 'y_pred_cat' is not defined"
          ]
        }
      ],
      "source": [
        "# Classification Report of CatBoost Classifier\n",
        "\n",
        "print(metrics.classification_report(y_test, y_pred_cat))"
      ]
    },
    {
      "cell_type": "markdown",
      "id": "bfcbca71",
      "metadata": {
        "papermill": {
          "duration": 0.074983,
          "end_time": "2021-09-25T11:36:36.769775",
          "exception": false,
          "start_time": "2021-09-25T11:36:36.694792",
          "status": "completed"
        },
        "tags": [],
        "id": "bfcbca71"
      },
      "source": [
        "## Gradient Boosting Classifier"
      ]
    },
    {
      "cell_type": "code",
      "execution_count": null,
      "id": "42895f0f",
      "metadata": {
        "execution": {
          "iopub.execute_input": "2021-09-25T11:36:36.923664Z",
          "iopub.status.busy": "2021-09-25T11:36:36.923054Z",
          "iopub.status.idle": "2021-09-25T11:36:37.123711Z",
          "shell.execute_reply": "2021-09-25T11:36:37.123187Z",
          "shell.execute_reply.started": "2021-09-25T11:34:03.733253Z"
        },
        "papermill": {
          "duration": 0.278237,
          "end_time": "2021-09-25T11:36:37.123851",
          "exception": false,
          "start_time": "2021-09-25T11:36:36.845614",
          "status": "completed"
        },
        "tags": [],
        "colab": {
          "base_uri": "https://localhost:8080/"
        },
        "id": "42895f0f",
        "outputId": "813dfe4a-3a20-4254-96a2-ef0c891c5175"
      },
      "outputs": [
        {
          "output_type": "execute_result",
          "data": {
            "text/plain": [
              "GradientBoostingClassifier()"
            ]
          },
          "metadata": {},
          "execution_count": 58
        }
      ],
      "source": [
        "from sklearn.ensemble import GradientBoostingClassifier\n",
        "gb = GradientBoostingClassifier()\n",
        "gb.fit(X_train, y_train)"
      ]
    },
    {
      "cell_type": "code",
      "execution_count": null,
      "id": "70fe89c7",
      "metadata": {
        "execution": {
          "iopub.execute_input": "2021-09-25T11:36:37.281006Z",
          "iopub.status.busy": "2021-09-25T11:36:37.280367Z",
          "iopub.status.idle": "2021-09-25T11:36:37.283732Z",
          "shell.execute_reply": "2021-09-25T11:36:37.284206Z",
          "shell.execute_reply.started": "2021-09-25T11:34:03.949849Z"
        },
        "papermill": {
          "duration": 0.085914,
          "end_time": "2021-09-25T11:36:37.284376",
          "exception": false,
          "start_time": "2021-09-25T11:36:37.198462",
          "status": "completed"
        },
        "tags": [],
        "colab": {
          "base_uri": "https://localhost:8080/"
        },
        "id": "70fe89c7",
        "outputId": "f59754e1-3fa9-4440-d059-c934f7075bcf"
      },
      "outputs": [
        {
          "output_type": "stream",
          "name": "stdout",
          "text": [
            "Accuracy obtained by Gradient Boosting Classifier model: 94.3089430894309\n"
          ]
        }
      ],
      "source": [
        "GradientBoostingClassifierScore = gb.score(X_test,y_test)\n",
        "print(\"Accuracy obtained by Gradient Boosting Classifier model:\",GradientBoostingClassifierScore*100)"
      ]
    },
    {
      "cell_type": "code",
      "execution_count": null,
      "id": "ec5016f1",
      "metadata": {
        "execution": {
          "iopub.execute_input": "2021-09-25T11:36:37.457556Z",
          "iopub.status.busy": "2021-09-25T11:36:37.446245Z",
          "iopub.status.idle": "2021-09-25T11:36:37.700920Z",
          "shell.execute_reply": "2021-09-25T11:36:37.700305Z",
          "shell.execute_reply.started": "2021-09-25T11:34:03.962458Z"
        },
        "papermill": {
          "duration": 0.34066,
          "end_time": "2021-09-25T11:36:37.701045",
          "exception": false,
          "start_time": "2021-09-25T11:36:37.360385",
          "status": "completed"
        },
        "tags": [],
        "colab": {
          "base_uri": "https://localhost:8080/",
          "height": 456
        },
        "id": "ec5016f1",
        "outputId": "fc69467e-8426-42d2-fe42-b71000d1b0d3"
      },
      "outputs": [
        {
          "output_type": "display_data",
          "data": {
            "text/plain": [
              "<Figure size 640x480 with 2 Axes>"
            ],
            "image/png": "[encoded data removed]"
          },
          "metadata": {}
        }
      ],
      "source": [
        "# Confusion matrix\n",
        "y_pred_gb = gb.predict(X_test)\n",
        "cf_matrix = confusion_matrix(y_test, y_pred_gb)\n",
        "sns.heatmap(cf_matrix, annot=True, cmap=\"Greens_r\")\n",
        "plt.title(\"Confusion Matrix for Gradient Boosting Classifier\", fontsize=14, fontname=\"Helvetica\", y=1.03);"
      ]
    },
    {
      "cell_type": "code",
      "execution_count": null,
      "id": "9dbc8ddf",
      "metadata": {
        "execution": {
          "iopub.execute_input": "2021-09-25T11:36:37.861313Z",
          "iopub.status.busy": "2021-09-25T11:36:37.860674Z",
          "iopub.status.idle": "2021-09-25T11:36:37.868896Z",
          "shell.execute_reply": "2021-09-25T11:36:37.868283Z",
          "shell.execute_reply.started": "2021-09-25T11:34:04.257223Z"
        },
        "papermill": {
          "duration": 0.091516,
          "end_time": "2021-09-25T11:36:37.869040",
          "exception": false,
          "start_time": "2021-09-25T11:36:37.777524",
          "status": "completed"
        },
        "tags": [],
        "colab": {
          "base_uri": "https://localhost:8080/"
        },
        "id": "9dbc8ddf",
        "outputId": "db5a063c-b339-438f-b2e8-ba2f7fd61852"
      },
      "outputs": [
        {
          "output_type": "stream",
          "name": "stdout",
          "text": [
            "              precision    recall  f1-score   support\n",
            "\n",
            "           0       0.93      1.00      0.97        99\n",
            "           1       1.00      0.71      0.83        24\n",
            "\n",
            "    accuracy                           0.94       123\n",
            "   macro avg       0.97      0.85      0.90       123\n",
            "weighted avg       0.95      0.94      0.94       123\n",
            "\n"
          ]
        }
      ],
      "source": [
        "# Classification Report of Gradient Boosting Classifier\n",
        "\n",
        "print(metrics.classification_report(y_test, y_pred_gb))"
      ]
    },
    {
      "cell_type": "code",
      "execution_count": null,
      "id": "5cabfc20",
      "metadata": {
        "_kg_hide-input": false,
        "execution": {
          "iopub.execute_input": "2021-09-25T11:36:38.056357Z",
          "iopub.status.busy": "2021-09-25T11:36:38.053347Z",
          "iopub.status.idle": "2021-09-25T11:36:38.233595Z",
          "shell.execute_reply": "2021-09-25T11:36:38.233015Z",
          "shell.execute_reply.started": "2021-09-25T11:35:24.441220Z"
        },
        "papermill": {
          "duration": 0.287106,
          "end_time": "2021-09-25T11:36:38.233729",
          "exception": false,
          "start_time": "2021-09-25T11:36:37.946623",
          "status": "completed"
        },
        "tags": [],
        "colab": {
          "base_uri": "https://localhost:8080/",
          "height": 242
        },
        "id": "5cabfc20",
        "outputId": "5803f548-035d-4646-c167-5b1c183a61bc"
      },
      "outputs": [
        {
          "output_type": "error",
          "ename": "NameError",
          "evalue": "ignored",
          "traceback": [
            "\u001b[0;31m---------------------------------------------------------------------------\u001b[0m",
            "\u001b[0;31mNameError\u001b[0m                                 Traceback (most recent call last)",
            "\u001b[0;32m<ipython-input-64-a6348eea0d30>\u001b[0m in \u001b[0;36m<module>\u001b[0;34m\u001b[0m\n\u001b[1;32m     12\u001b[0m      \u001b[0mRandomForestClassifierScore\u001b[0m\u001b[0;34m,\u001b[0m\u001b[0;34m\u001b[0m\u001b[0;34m\u001b[0m\u001b[0m\n\u001b[1;32m     13\u001b[0m      \u001b[0mKNeighborsClassifierScore\u001b[0m\u001b[0;34m,\u001b[0m\u001b[0;34m\u001b[0m\u001b[0;34m\u001b[0m\u001b[0m\n\u001b[0;32m---> 14\u001b[0;31m      \u001b[0mCatBoostClassifierScore\u001b[0m\u001b[0;34m,\u001b[0m\u001b[0;34m\u001b[0m\u001b[0;34m\u001b[0m\u001b[0m\n\u001b[0m\u001b[1;32m     15\u001b[0m      GradientBoostingClassifierScore]\n\u001b[1;32m     16\u001b[0m \u001b[0;34m\u001b[0m\u001b[0m\n",
            "\u001b[0;31mNameError\u001b[0m: name 'CatBoostClassifierScore' is not defined"
          ]
        }
      ],
      "source": [
        "plt.style.use(\"seaborn\")\n",
        "\n",
        "x = [\"LogisticRegression\",\n",
        "     \"Decision Tree Classifier\",\n",
        "     \"RandomForestClassifier\",\n",
        "     \"KNeighborsClassifier\",\n",
        "     \"CatBoost Classifier\",\n",
        "     \"Gradient Boosting Classifier\"]\n",
        "\n",
        "y = [LogisticRegressionScore,\n",
        "     DecisionTreeClassifierScore,\n",
        "     RandomForestClassifierScore,\n",
        "     KNeighborsClassifierScore,\n",
        "     CatBoostClassifierScore,\n",
        "     GradientBoostingClassifierScore]\n",
        "\n",
        "fig, ax = plt.subplots(figsize=(10,5))\n",
        "sns.barplot(x=x,y=y, palette=\"Blues_r\");\n",
        "plt.ylabel(\"Model Accuracy\")\n",
        "plt.xticks(rotation=40)\n",
        "plt.title(\"Model Comparison - Model Accuracy\", fontsize=14, fontname=\"Helvetica\", y=1.03);"
      ]
    },
    {
      "cell_type": "markdown",
      "id": "2b3db194",
      "metadata": {
        "papermill": {
          "duration": 0.077457,
          "end_time": "2021-09-25T11:36:38.390148",
          "exception": false,
          "start_time": "2021-09-25T11:36:38.312691",
          "status": "completed"
        },
        "tags": [],
        "id": "2b3db194"
      },
      "source": [
        "* `Gradient Boosting Classifier` and `Random Forest Regression` perform best on the test set."
      ]
    },
    {
      "cell_type": "markdown",
      "id": "1e2bd1e7",
      "metadata": {
        "papermill": {
          "duration": 0.077433,
          "end_time": "2021-09-25T11:36:38.545685",
          "exception": false,
          "start_time": "2021-09-25T11:36:38.468252",
          "status": "completed"
        },
        "tags": [],
        "id": "1e2bd1e7"
      },
      "source": [
        "## Hyperparameter Tuning on Random Forest Classifier"
      ]
    },
    {
      "cell_type": "code",
      "execution_count": null,
      "id": "e9565b9b",
      "metadata": {
        "execution": {
          "iopub.execute_input": "2021-09-25T11:36:38.708415Z",
          "iopub.status.busy": "2021-09-25T11:36:38.707736Z",
          "iopub.status.idle": "2021-09-25T11:36:38.710860Z",
          "shell.execute_reply": "2021-09-25T11:36:38.710431Z",
          "shell.execute_reply.started": "2021-09-25T11:34:04.519087Z"
        },
        "papermill": {
          "duration": 0.086867,
          "end_time": "2021-09-25T11:36:38.711005",
          "exception": false,
          "start_time": "2021-09-25T11:36:38.624138",
          "status": "completed"
        },
        "tags": [],
        "id": "e9565b9b"
      },
      "outputs": [],
      "source": [
        "from sklearn.model_selection import GridSearchCV\n",
        "\n",
        "param_grid = {\n",
        "    'bootstrap': [True],\n",
        "    'max_depth': [80, 90, 100, 110],\n",
        "    'max_features': [2, 3],\n",
        "    'min_samples_leaf': [3, 4, 5],\n",
        "    'min_samples_split': [8, 10, 12],\n",
        "    'criterion' : ['gini', 'entropy'],\n",
        "    'n_estimators': [100, 200, 300, 1000]\n",
        "}\n",
        "\n",
        "grid_search_rfc = GridSearchCV(estimator = rfc,\n",
        "                           param_grid = param_grid,\n",
        "                           cv = 3, n_jobs = -1, verbose = 2)"
      ]
    },
    {
      "cell_type": "code",
      "execution_count": null,
      "id": "b43fcbbf",
      "metadata": {
        "execution": {
          "iopub.execute_input": "2021-09-25T11:36:38.871553Z",
          "iopub.status.busy": "2021-09-25T11:36:38.870947Z",
          "iopub.status.idle": "2021-09-25T11:46:10.621928Z",
          "shell.execute_reply": "2021-09-25T11:46:10.621358Z",
          "shell.execute_reply.started": "2021-09-25T11:34:04.529459Z"
        },
        "papermill": {
          "duration": 571.833807,
          "end_time": "2021-09-25T11:46:10.622092",
          "exception": false,
          "start_time": "2021-09-25T11:36:38.788285",
          "status": "completed"
        },
        "tags": [],
        "colab": {
          "base_uri": "https://localhost:8080/",
          "height": 338
        },
        "id": "b43fcbbf",
        "outputId": "ee1d0f7f-3f9a-47fe-d1c4-d16d5f5a8ac5"
      },
      "outputs": [
        {
          "output_type": "stream",
          "name": "stdout",
          "text": [
            "Fitting 3 folds for each of 576 candidates, totalling 1728 fits\n"
          ]
        },
        {
          "output_type": "error",
          "ename": "KeyboardInterrupt",
          "evalue": "ignored",
          "traceback": [
            "\u001b[0;31m---------------------------------------------------------------------------\u001b[0m",
            "\u001b[0;31mKeyboardInterrupt\u001b[0m                         Traceback (most recent call last)",
            "\u001b[0;32m<ipython-input-66-62c034864a11>\u001b[0m in \u001b[0;36m<module>\u001b[0;34m\u001b[0m\n\u001b[0;32m----> 1\u001b[0;31m \u001b[0mgrid_search_rfc\u001b[0m\u001b[0;34m.\u001b[0m\u001b[0mfit\u001b[0m\u001b[0;34m(\u001b[0m\u001b[0mX_train\u001b[0m\u001b[0;34m,\u001b[0m \u001b[0my_train\u001b[0m\u001b[0;34m)\u001b[0m\u001b[0;34m\u001b[0m\u001b[0;34m\u001b[0m\u001b[0m\n\u001b[0m",
            "\u001b[0;32m/usr/local/lib/python3.8/dist-packages/sklearn/model_selection/_search.py\u001b[0m in \u001b[0;36mfit\u001b[0;34m(self, X, y, groups, **fit_params)\u001b[0m\n\u001b[1;32m    889\u001b[0m                 \u001b[0;32mreturn\u001b[0m \u001b[0mresults\u001b[0m\u001b[0;34m\u001b[0m\u001b[0;34m\u001b[0m\u001b[0m\n\u001b[1;32m    890\u001b[0m \u001b[0;34m\u001b[0m\u001b[0m\n\u001b[0;32m--> 891\u001b[0;31m             \u001b[0mself\u001b[0m\u001b[0;34m.\u001b[0m\u001b[0m_run_search\u001b[0m\u001b[0;34m(\u001b[0m\u001b[0mevaluate_candidates\u001b[0m\u001b[0;34m)\u001b[0m\u001b[0;34m\u001b[0m\u001b[0;34m\u001b[0m\u001b[0m\n\u001b[0m\u001b[1;32m    892\u001b[0m \u001b[0;34m\u001b[0m\u001b[0m\n\u001b[1;32m    893\u001b[0m             \u001b[0;31m# multimetric is determined here because in the case of a callable\u001b[0m\u001b[0;34m\u001b[0m\u001b[0;34m\u001b[0m\u001b[0;34m\u001b[0m\u001b[0m\n",
            "\u001b[0;32m/usr/local/lib/python3.8/dist-packages/sklearn/model_selection/_search.py\u001b[0m in \u001b[0;36m_run_search\u001b[0;34m(self, evaluate_candidates)\u001b[0m\n\u001b[1;32m   1390\u001b[0m     \u001b[0;32mdef\u001b[0m \u001b[0m_run_search\u001b[0m\u001b[0;34m(\u001b[0m\u001b[0mself\u001b[0m\u001b[0;34m,\u001b[0m \u001b[0mevaluate_candidates\u001b[0m\u001b[0;34m)\u001b[0m\u001b[0;34m:\u001b[0m\u001b[0;34m\u001b[0m\u001b[0;34m\u001b[0m\u001b[0m\n\u001b[1;32m   1391\u001b[0m         \u001b[0;34m\"\"\"Search all candidates in param_grid\"\"\"\u001b[0m\u001b[0;34m\u001b[0m\u001b[0;34m\u001b[0m\u001b[0m\n\u001b[0;32m-> 1392\u001b[0;31m         \u001b[0mevaluate_candidates\u001b[0m\u001b[0;34m(\u001b[0m\u001b[0mParameterGrid\u001b[0m\u001b[0;34m(\u001b[0m\u001b[0mself\u001b[0m\u001b[0;34m.\u001b[0m\u001b[0mparam_grid\u001b[0m\u001b[0;34m)\u001b[0m\u001b[0;34m)\u001b[0m\u001b[0;34m\u001b[0m\u001b[0;34m\u001b[0m\u001b[0m\n\u001b[0m\u001b[1;32m   1393\u001b[0m \u001b[0;34m\u001b[0m\u001b[0m\n\u001b[1;32m   1394\u001b[0m \u001b[0;34m\u001b[0m\u001b[0m\n",
            "\u001b[0;32m/usr/local/lib/python3.8/dist-packages/sklearn/model_selection/_search.py\u001b[0m in \u001b[0;36mevaluate_candidates\u001b[0;34m(candidate_params, cv, more_results)\u001b[0m\n\u001b[1;32m    836\u001b[0m                     )\n\u001b[1;32m    837\u001b[0m \u001b[0;34m\u001b[0m\u001b[0m\n\u001b[0;32m--> 838\u001b[0;31m                 out = parallel(\n\u001b[0m\u001b[1;32m    839\u001b[0m                     delayed(_fit_and_score)(\n\u001b[1;32m    840\u001b[0m                         \u001b[0mclone\u001b[0m\u001b[0;34m(\u001b[0m\u001b[0mbase_estimator\u001b[0m\u001b[0;34m)\u001b[0m\u001b[0;34m,\u001b[0m\u001b[0;34m\u001b[0m\u001b[0;34m\u001b[0m\u001b[0m\n",
            "\u001b[0;32m/usr/local/lib/python3.8/dist-packages/joblib/parallel.py\u001b[0m in \u001b[0;36m__call__\u001b[0;34m(self, iterable)\u001b[0m\n\u001b[1;32m   1096\u001b[0m \u001b[0;34m\u001b[0m\u001b[0m\n\u001b[1;32m   1097\u001b[0m             \u001b[0;32mwith\u001b[0m \u001b[0mself\u001b[0m\u001b[0;34m.\u001b[0m\u001b[0m_backend\u001b[0m\u001b[0;34m.\u001b[0m\u001b[0mretrieval_context\u001b[0m\u001b[0;34m(\u001b[0m\u001b[0;34m)\u001b[0m\u001b[0;34m:\u001b[0m\u001b[0;34m\u001b[0m\u001b[0;34m\u001b[0m\u001b[0m\n\u001b[0;32m-> 1098\u001b[0;31m                 \u001b[0mself\u001b[0m\u001b[0;34m.\u001b[0m\u001b[0mretrieve\u001b[0m\u001b[0;34m(\u001b[0m\u001b[0;34m)\u001b[0m\u001b[0;34m\u001b[0m\u001b[0;34m\u001b[0m\u001b[0m\n\u001b[0m\u001b[1;32m   1099\u001b[0m             \u001b[0;31m# Make sure that we get a last message telling us we are done\u001b[0m\u001b[0;34m\u001b[0m\u001b[0;34m\u001b[0m\u001b[0;34m\u001b[0m\u001b[0m\n\u001b[1;32m   1100\u001b[0m             \u001b[0melapsed_time\u001b[0m \u001b[0;34m=\u001b[0m \u001b[0mtime\u001b[0m\u001b[0;34m.\u001b[0m\u001b[0mtime\u001b[0m\u001b[0;34m(\u001b[0m\u001b[0;34m)\u001b[0m \u001b[0;34m-\u001b[0m \u001b[0mself\u001b[0m\u001b[0;34m.\u001b[0m\u001b[0m_start_time\u001b[0m\u001b[0;34m\u001b[0m\u001b[0;34m\u001b[0m\u001b[0m\n",
            "\u001b[0;32m/usr/local/lib/python3.8/dist-packages/joblib/parallel.py\u001b[0m in \u001b[0;36mretrieve\u001b[0;34m(self)\u001b[0m\n\u001b[1;32m    973\u001b[0m             \u001b[0;32mtry\u001b[0m\u001b[0;34m:\u001b[0m\u001b[0;34m\u001b[0m\u001b[0;34m\u001b[0m\u001b[0m\n\u001b[1;32m    974\u001b[0m                 \u001b[0;32mif\u001b[0m \u001b[0mgetattr\u001b[0m\u001b[0;34m(\u001b[0m\u001b[0mself\u001b[0m\u001b[0;34m.\u001b[0m\u001b[0m_backend\u001b[0m\u001b[0;34m,\u001b[0m \u001b[0;34m'supports_timeout'\u001b[0m\u001b[0;34m,\u001b[0m \u001b[0;32mFalse\u001b[0m\u001b[0;34m)\u001b[0m\u001b[0;34m:\u001b[0m\u001b[0;34m\u001b[0m\u001b[0;34m\u001b[0m\u001b[0m\n\u001b[0;32m--> 975\u001b[0;31m                     \u001b[0mself\u001b[0m\u001b[0;34m.\u001b[0m\u001b[0m_output\u001b[0m\u001b[0;34m.\u001b[0m\u001b[0mextend\u001b[0m\u001b[0;34m(\u001b[0m\u001b[0mjob\u001b[0m\u001b[0;34m.\u001b[0m\u001b[0mget\u001b[0m\u001b[0;34m(\u001b[0m\u001b[0mtimeout\u001b[0m\u001b[0;34m=\u001b[0m\u001b[0mself\u001b[0m\u001b[0;34m.\u001b[0m\u001b[0mtimeout\u001b[0m\u001b[0;34m)\u001b[0m\u001b[0;34m)\u001b[0m\u001b[0;34m\u001b[0m\u001b[0;34m\u001b[0m\u001b[0m\n\u001b[0m\u001b[1;32m    976\u001b[0m                 \u001b[0;32melse\u001b[0m\u001b[0;34m:\u001b[0m\u001b[0;34m\u001b[0m\u001b[0;34m\u001b[0m\u001b[0m\n\u001b[1;32m    977\u001b[0m                     \u001b[0mself\u001b[0m\u001b[0;34m.\u001b[0m\u001b[0m_output\u001b[0m\u001b[0;34m.\u001b[0m\u001b[0mextend\u001b[0m\u001b[0;34m(\u001b[0m\u001b[0mjob\u001b[0m\u001b[0;34m.\u001b[0m\u001b[0mget\u001b[0m\u001b[0;34m(\u001b[0m\u001b[0;34m)\u001b[0m\u001b[0;34m)\u001b[0m\u001b[0;34m\u001b[0m\u001b[0;34m\u001b[0m\u001b[0m\n",
            "\u001b[0;32m/usr/local/lib/python3.8/dist-packages/joblib/_parallel_backends.py\u001b[0m in \u001b[0;36mwrap_future_result\u001b[0;34m(future, timeout)\u001b[0m\n\u001b[1;32m    565\u001b[0m         AsyncResults.get from multiprocessing.\"\"\"\n\u001b[1;32m    566\u001b[0m         \u001b[0;32mtry\u001b[0m\u001b[0;34m:\u001b[0m\u001b[0;34m\u001b[0m\u001b[0;34m\u001b[0m\u001b[0m\n\u001b[0;32m--> 567\u001b[0;31m             \u001b[0;32mreturn\u001b[0m \u001b[0mfuture\u001b[0m\u001b[0;34m.\u001b[0m\u001b[0mresult\u001b[0m\u001b[0;34m(\u001b[0m\u001b[0mtimeout\u001b[0m\u001b[0;34m=\u001b[0m\u001b[0mtimeout\u001b[0m\u001b[0;34m)\u001b[0m\u001b[0;34m\u001b[0m\u001b[0;34m\u001b[0m\u001b[0m\n\u001b[0m\u001b[1;32m    568\u001b[0m         \u001b[0;32mexcept\u001b[0m \u001b[0mCfTimeoutError\u001b[0m \u001b[0;32mas\u001b[0m \u001b[0me\u001b[0m\u001b[0;34m:\u001b[0m\u001b[0;34m\u001b[0m\u001b[0;34m\u001b[0m\u001b[0m\n\u001b[1;32m    569\u001b[0m             \u001b[0;32mraise\u001b[0m \u001b[0mTimeoutError\u001b[0m \u001b[0;32mfrom\u001b[0m \u001b[0me\u001b[0m\u001b[0;34m\u001b[0m\u001b[0;34m\u001b[0m\u001b[0m\n",
            "\u001b[0;32m/usr/lib/python3.8/concurrent/futures/_base.py\u001b[0m in \u001b[0;36mresult\u001b[0;34m(self, timeout)\u001b[0m\n\u001b[1;32m    437\u001b[0m                     \u001b[0;32mreturn\u001b[0m \u001b[0mself\u001b[0m\u001b[0;34m.\u001b[0m\u001b[0m__get_result\u001b[0m\u001b[0;34m(\u001b[0m\u001b[0;34m)\u001b[0m\u001b[0;34m\u001b[0m\u001b[0;34m\u001b[0m\u001b[0m\n\u001b[1;32m    438\u001b[0m \u001b[0;34m\u001b[0m\u001b[0m\n\u001b[0;32m--> 439\u001b[0;31m                 \u001b[0mself\u001b[0m\u001b[0;34m.\u001b[0m\u001b[0m_condition\u001b[0m\u001b[0;34m.\u001b[0m\u001b[0mwait\u001b[0m\u001b[0;34m(\u001b[0m\u001b[0mtimeout\u001b[0m\u001b[0;34m)\u001b[0m\u001b[0;34m\u001b[0m\u001b[0;34m\u001b[0m\u001b[0m\n\u001b[0m\u001b[1;32m    440\u001b[0m \u001b[0;34m\u001b[0m\u001b[0m\n\u001b[1;32m    441\u001b[0m                 \u001b[0;32mif\u001b[0m \u001b[0mself\u001b[0m\u001b[0;34m.\u001b[0m\u001b[0m_state\u001b[0m \u001b[0;32min\u001b[0m \u001b[0;34m[\u001b[0m\u001b[0mCANCELLED\u001b[0m\u001b[0;34m,\u001b[0m \u001b[0mCANCELLED_AND_NOTIFIED\u001b[0m\u001b[0;34m]\u001b[0m\u001b[0;34m:\u001b[0m\u001b[0;34m\u001b[0m\u001b[0;34m\u001b[0m\u001b[0m\n",
            "\u001b[0;32m/usr/lib/python3.8/threading.py\u001b[0m in \u001b[0;36mwait\u001b[0;34m(self, timeout)\u001b[0m\n\u001b[1;32m    300\u001b[0m         \u001b[0;32mtry\u001b[0m\u001b[0;34m:\u001b[0m    \u001b[0;31m# restore state no matter what (e.g., KeyboardInterrupt)\u001b[0m\u001b[0;34m\u001b[0m\u001b[0;34m\u001b[0m\u001b[0m\n\u001b[1;32m    301\u001b[0m             \u001b[0;32mif\u001b[0m \u001b[0mtimeout\u001b[0m \u001b[0;32mis\u001b[0m \u001b[0;32mNone\u001b[0m\u001b[0;34m:\u001b[0m\u001b[0;34m\u001b[0m\u001b[0;34m\u001b[0m\u001b[0m\n\u001b[0;32m--> 302\u001b[0;31m                 \u001b[0mwaiter\u001b[0m\u001b[0;34m.\u001b[0m\u001b[0macquire\u001b[0m\u001b[0;34m(\u001b[0m\u001b[0;34m)\u001b[0m\u001b[0;34m\u001b[0m\u001b[0;34m\u001b[0m\u001b[0m\n\u001b[0m\u001b[1;32m    303\u001b[0m                 \u001b[0mgotit\u001b[0m \u001b[0;34m=\u001b[0m \u001b[0;32mTrue\u001b[0m\u001b[0;34m\u001b[0m\u001b[0;34m\u001b[0m\u001b[0m\n\u001b[1;32m    304\u001b[0m             \u001b[0;32melse\u001b[0m\u001b[0;34m:\u001b[0m\u001b[0;34m\u001b[0m\u001b[0;34m\u001b[0m\u001b[0m\n",
            "\u001b[0;31mKeyboardInterrupt\u001b[0m: "
          ]
        }
      ],
      "source": [
        "grid_search_rfc.fit(X_train, y_train)"
      ]
    },
    {
      "cell_type": "code",
      "execution_count": null,
      "id": "f1962ce2",
      "metadata": {
        "execution": {
          "iopub.execute_input": "2021-09-25T11:46:10.801485Z",
          "iopub.status.busy": "2021-09-25T11:46:10.800557Z",
          "iopub.status.idle": "2021-09-25T11:46:10.804944Z",
          "shell.execute_reply": "2021-09-25T11:46:10.804275Z"
        },
        "papermill": {
          "duration": 0.096099,
          "end_time": "2021-09-25T11:46:10.805091",
          "exception": false,
          "start_time": "2021-09-25T11:46:10.708992",
          "status": "completed"
        },
        "tags": [],
        "id": "f1962ce2"
      },
      "outputs": [],
      "source": [
        "grid_search_rfc.best_params_"
      ]
    },
    {
      "cell_type": "code",
      "execution_count": null,
      "id": "a9bf4203",
      "metadata": {
        "execution": {
          "iopub.execute_input": "2021-09-25T11:46:10.976424Z",
          "iopub.status.busy": "2021-09-25T11:46:10.975556Z",
          "iopub.status.idle": "2021-09-25T11:46:10.980543Z",
          "shell.execute_reply": "2021-09-25T11:46:10.979918Z"
        },
        "papermill": {
          "duration": 0.092905,
          "end_time": "2021-09-25T11:46:10.980702",
          "exception": false,
          "start_time": "2021-09-25T11:46:10.887797",
          "status": "completed"
        },
        "tags": [],
        "id": "a9bf4203"
      },
      "outputs": [],
      "source": [
        "grid_search_rfc.best_score_"
      ]
    },
    {
      "cell_type": "code",
      "execution_count": null,
      "id": "818fde24",
      "metadata": {
        "execution": {
          "iopub.execute_input": "2021-09-25T11:46:11.158000Z",
          "iopub.status.busy": "2021-09-25T11:46:11.155937Z",
          "iopub.status.idle": "2021-09-25T11:46:11.190469Z",
          "shell.execute_reply": "2021-09-25T11:46:11.189866Z"
        },
        "papermill": {
          "duration": 0.126309,
          "end_time": "2021-09-25T11:46:11.190646",
          "exception": false,
          "start_time": "2021-09-25T11:46:11.064337",
          "status": "completed"
        },
        "tags": [],
        "id": "818fde24"
      },
      "outputs": [],
      "source": [
        "grid_search_rfc_predict = grid_search_rfc.predict(X_test)"
      ]
    },
    {
      "cell_type": "code",
      "execution_count": null,
      "id": "b0f1c94f",
      "metadata": {
        "execution": {
          "iopub.execute_input": "2021-09-25T11:46:11.364089Z",
          "iopub.status.busy": "2021-09-25T11:46:11.363273Z",
          "iopub.status.idle": "2021-09-25T11:46:11.368084Z",
          "shell.execute_reply": "2021-09-25T11:46:11.367134Z"
        },
        "papermill": {
          "duration": 0.093999,
          "end_time": "2021-09-25T11:46:11.368286",
          "exception": false,
          "start_time": "2021-09-25T11:46:11.274287",
          "status": "completed"
        },
        "tags": [],
        "id": "b0f1c94f"
      },
      "outputs": [],
      "source": [
        "print('Improvement in Random Forest Classifier after GridSearchCV: {:0.2f}%.'.format(100 * (grid_search_rfc.best_score_ - RandomForestClassifierScore) / RandomForestClassifierScore))"
      ]
    },
    {
      "cell_type": "code",
      "execution_count": null,
      "id": "7b8a369a",
      "metadata": {
        "execution": {
          "iopub.execute_input": "2021-09-25T11:46:11.582841Z",
          "iopub.status.busy": "2021-09-25T11:46:11.579763Z",
          "iopub.status.idle": "2021-09-25T11:46:11.709391Z",
          "shell.execute_reply": "2021-09-25T11:46:11.708731Z"
        },
        "papermill": {
          "duration": 0.255708,
          "end_time": "2021-09-25T11:46:11.709540",
          "exception": false,
          "start_time": "2021-09-25T11:46:11.453832",
          "status": "completed"
        },
        "tags": [],
        "id": "7b8a369a"
      },
      "outputs": [],
      "source": [
        "# Comparing the results after the improvement in Random Forest Classifier\n",
        "\n",
        "plt.style.use(\"seaborn\")\n",
        "\n",
        "x = [\"Random Forest Classifier\",\n",
        "     \"GridSearch-RandomForestClassifier\"]\n",
        "\n",
        "y = [RandomForestClassifierScore,\n",
        "     grid_search_rfc.best_score_]\n",
        "\n",
        "fig, ax = plt.subplots(figsize=(5,5))\n",
        "sns.barplot(x=x,y=y, palette=\"Blues_r\");\n",
        "plt.ylabel(\"Accuracy\")\n",
        "plt.xticks(rotation=45)\n",
        "plt.title(\"Random Forest Classifier  vs  GridSearched Random Forest Classifier\", fontsize=14, fontname=\"Helvetica\", y=1.03);"
      ]
    },
    {
      "cell_type": "code",
      "execution_count": null,
      "id": "1f5fe037",
      "metadata": {
        "execution": {
          "iopub.execute_input": "2021-09-25T11:46:11.922223Z",
          "iopub.status.busy": "2021-09-25T11:46:11.921224Z",
          "iopub.status.idle": "2021-09-25T11:46:12.037578Z",
          "shell.execute_reply": "2021-09-25T11:46:12.036930Z"
        },
        "papermill": {
          "duration": 0.243084,
          "end_time": "2021-09-25T11:46:12.037788",
          "exception": false,
          "start_time": "2021-09-25T11:46:11.794704",
          "status": "completed"
        },
        "tags": [],
        "id": "1f5fe037"
      },
      "outputs": [],
      "source": [
        "# Comparing the GridSearch-Random Forest Regression and Gradient Boosting Classifier\n",
        "\n",
        "plt.style.use(\"seaborn\")\n",
        "\n",
        "x = [\"Gradient Boosting Classifier\",\n",
        "     \"GridSearch-Random Forest Regression\"]\n",
        "\n",
        "y = [GradientBoostingClassifierScore,\n",
        "     grid_search_rfc.best_score_]\n",
        "\n",
        "fig, ax = plt.subplots(figsize=(5,5))\n",
        "sns.barplot(x=x,y=y, palette=\"Blues_r\");\n",
        "plt.ylabel(\"Accuracy\")\n",
        "plt.xticks(rotation=30)\n",
        "plt.title(\"Gradient Boosting Classifier  vs  GridSearched Random Forest Regression\", fontsize=14, fontname=\"Helvetica\", y=1.03);"
      ]
    },
    {
      "cell_type": "markdown",
      "id": "578d3608",
      "metadata": {
        "papermill": {
          "duration": 0.086058,
          "end_time": "2021-09-25T11:46:12.210567",
          "exception": false,
          "start_time": "2021-09-25T11:46:12.124509",
          "status": "completed"
        },
        "tags": [],
        "id": "578d3608"
      },
      "source": [
        "### After Hyperparameter tuning, the Random Forest Regression model performs better than the Gradient Boosting Classifier which was not the case before!"
      ]
    },
    {
      "cell_type": "code",
      "execution_count": null,
      "id": "f8dfbfda",
      "metadata": {
        "execution": {
          "iopub.execute_input": "2021-09-25T11:46:12.390910Z",
          "iopub.status.busy": "2021-09-25T11:46:12.390172Z",
          "iopub.status.idle": "2021-09-25T11:46:12.398971Z",
          "shell.execute_reply": "2021-09-25T11:46:12.399442Z"
        },
        "papermill": {
          "duration": 0.10214,
          "end_time": "2021-09-25T11:46:12.399621",
          "exception": false,
          "start_time": "2021-09-25T11:46:12.297481",
          "status": "completed"
        },
        "tags": [],
        "id": "f8dfbfda"
      },
      "outputs": [],
      "source": [
        "# Classification Report of GridSearch-RandomForestRegression\n",
        "\n",
        "print(classification_report(y_test, grid_search_rfc_predict))"
      ]
    }
  ],
  "metadata": {
    "kernelspec": {
      "display_name": "Python 3",
      "language": "python",
      "name": "python3"
    },
    "language_info": {
      "codemirror_mode": {
        "name": "ipython",
        "version": 3
      },
      "file_extension": ".py",
      "mimetype": "text/x-python",
      "name": "python",
      "nbconvert_exporter": "python",
      "pygments_lexer": "ipython3",
      "version": "3.7.10"
    },
    "papermill": {
      "default_parameters": {},
      "duration": 602.947979,
      "end_time": "2021-09-25T11:46:14.633487",
      "environment_variables": {},
      "exception": null,
      "input_path": "__notebook__.ipynb",
      "output_path": "__notebook__.ipynb",
      "parameters": {},
      "start_time": "2021-09-25T11:36:11.685508",
      "version": "2.3.3"
    },
    "colab": {
      "provenance": []
    }
  },
  "nbformat": 4,
  "nbformat_minor": 5
}